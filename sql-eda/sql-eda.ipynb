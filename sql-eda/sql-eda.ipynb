{
 "cells": [
  {
   "cell_type": "code",
   "execution_count": 101,
   "metadata": {},
   "outputs": [],
   "source": [
    "import sqlite3\n",
    "import pandas as pd"
   ]
  },
  {
   "cell_type": "code",
   "execution_count": 102,
   "metadata": {},
   "outputs": [],
   "source": [
    "# Load your csv file\n",
    "customer = pd.read_csv('../datasets/customer.csv')\n",
    "shipment = pd.read_csv('../datasets/shipment.csv')\n",
    "product = pd.read_csv('../datasets/product.csv')\n",
    "order = pd.read_csv('../datasets/order.csv')\n",
    "geolocation = pd.read_csv('../datasets/geolocation.csv')\n",
    "sale = pd.read_csv('../datasets/sale.csv')\n"
   ]
  },
  {
   "cell_type": "code",
   "execution_count": 103,
   "metadata": {},
   "outputs": [],
   "source": [
    "# Data clean up\n",
    "customer.columns = customer.columns.str.strip()\n",
    "shipment.columns = shipment.columns.str.strip()\n",
    "product.columns = product.columns.str.strip()\n",
    "order.columns = order.columns.str.strip()\n",
    "geolocation.columns = geolocation.columns.str.strip()\n",
    "sale.columns = sale.columns.str.strip()"
   ]
  },
  {
   "cell_type": "code",
   "execution_count": 104,
   "metadata": {},
   "outputs": [],
   "source": [
    "# Create/connect to a SQLite database\n",
    "connection = sqlite3.connect('superstore_db.db')"
   ]
  },
  {
   "cell_type": "code",
   "execution_count": 105,
   "metadata": {},
   "outputs": [
    {
     "data": {
      "text/plain": [
       "<sqlite3.Cursor at 0x7fe1f6f7f110>"
      ]
     },
     "execution_count": 105,
     "metadata": {},
     "output_type": "execute_result"
    }
   ],
   "source": [
    "# Create the tables with primary keys and foreign keys\n",
    "cursor = connection.cursor()\n",
    "cursor.execute(\"PRAGMA foreign_keys = 1\")\n",
    "\n",
    "cursor.execute('''\n",
    "    CREATE TABLE IF NOT EXISTS product (\n",
    "        product_id TEXT PRIMARY KEY,\n",
    "        category TEXT,\n",
    "        sub_category TEXT,\n",
    "        product_name TEXT\n",
    "    )\n",
    "''')\n",
    "\n",
    "cursor.execute('''\n",
    "    CREATE TABLE IF NOT EXISTS customer (\n",
    "        customer_id TEXT PRIMARY KEY,\n",
    "        customer_name TEXT,\n",
    "        segment TEXT\n",
    "    )\n",
    "''')\n",
    "\n",
    "cursor.execute('''\n",
    "    CREATE TABLE IF NOT EXISTS sale (\n",
    "        transaction_id INTEGER PRIMARY KEY AUTOINCREMENT,\n",
    "        price REAL,\n",
    "        quantity INTEGER,\n",
    "        discount REAL,\n",
    "        profit REAL\n",
    "    )\n",
    "''')\n",
    "\n",
    "cursor.execute('''\n",
    "    CREATE TABLE IF NOT EXISTS geolocation (\n",
    "        geolocation_id INTEGER PRIMARY KEY AUTOINCREMENT,\n",
    "        country TEXT,\n",
    "        city TEXT,\n",
    "        state TEXT,\n",
    "        postal_code INTEGER,\n",
    "        region TEXT\n",
    "    )\n",
    "''')\n",
    "\n",
    "cursor.execute('''\n",
    "    CREATE TABLE IF NOT EXISTS shipment (\n",
    "        ship_id INTEGER PRIMARY KEY,\n",
    "        ship_date TEXT,\n",
    "        ship_mode TEXT,\n",
    "        geolocation_number INTEGER,\n",
    "        FOREIGN KEY(geolocation_number) REFERENCES geolocation(geolocation_id)\n",
    "    )\n",
    "''')\n",
    "\n",
    "cursor.execute('''\n",
    "    CREATE TABLE IF NOT EXISTS \"order\" (\n",
    "        order_id TEXT PRIMARY KEY,\n",
    "        order_date TEXT,\n",
    "        shipment_code INTEGER,\n",
    "        customer_code TEXT,\n",
    "        product_code TEXT,\n",
    "        FOREIGN KEY(shipment_code) REFERENCES shipment(ship_id),\n",
    "        FOREIGN KEY(product_code) REFERENCES product(product_id),\n",
    "        FOREIGN KEY(customer_code) REFERENCES customer(customer_id)\n",
    "    )\n",
    "''')"
   ]
  },
  {
   "cell_type": "code",
   "execution_count": 106,
   "metadata": {},
   "outputs": [
    {
     "data": {
      "text/plain": [
       "9994"
      ]
     },
     "execution_count": 106,
     "metadata": {},
     "output_type": "execute_result"
    }
   ],
   "source": [
    "# Load datafiles to SQLite\n",
    "# Insert values into the \"product\" table\n",
    "product.to_sql('product', connection, if_exists='replace', index=False)\n",
    "\n",
    "# Insert values into the \"customer\" table\n",
    "customer.to_sql('customer', connection, if_exists='replace', index=False)\n",
    "\n",
    "# Insert values into the \"geolocation\" table\n",
    "geolocation.to_sql('geolocation', connection, if_exists='replace', index=False)\n",
    "\n",
    "# Insert values into the \"shipment\" table\n",
    "shipment.to_sql('shipment', connection, if_exists='replace', index=False)\n",
    "\n",
    "# Insert values into the \"order\" table\n",
    "order.to_sql('order', connection, if_exists='replace', index=False)\n",
    "\n",
    "# Insert values into the \"sale\" table\n",
    "sale.to_sql('sale', connection, if_exists='replace', index=False)\n"
   ]
  },
  {
   "cell_type": "code",
   "execution_count": 107,
   "metadata": {},
   "outputs": [],
   "source": [
    "# Commit the changes and close the connection\n",
    "connection.commit()\n",
    "connection.close()"
   ]
  },
  {
   "cell_type": "code",
   "execution_count": null,
   "metadata": {},
   "outputs": [],
   "source": []
  }
 ],
 "metadata": {
  "kernelspec": {
   "display_name": "base",
   "language": "python",
   "name": "python3"
  },
  "language_info": {
   "codemirror_mode": {
    "name": "ipython",
    "version": 3
   },
   "file_extension": ".py",
   "mimetype": "text/x-python",
   "name": "python",
   "nbconvert_exporter": "python",
   "pygments_lexer": "ipython3",
   "version": "3.9.7"
  },
  "orig_nbformat": 4
 },
 "nbformat": 4,
 "nbformat_minor": 2
}
