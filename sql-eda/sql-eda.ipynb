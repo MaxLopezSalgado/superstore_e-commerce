{
 "cells": [
  {
   "cell_type": "code",
   "execution_count": 15,
   "metadata": {},
   "outputs": [],
   "source": [
    "import sqlite3\n",
    "import pandas as pd"
   ]
  },
  {
   "cell_type": "code",
   "execution_count": 16,
   "metadata": {},
   "outputs": [],
   "source": [
    "# Load your csv file\n",
    "customer = pd.read_csv('../datasets/customer.csv')\n",
    "shipment = pd.read_csv('../datasets/shipment.csv')\n",
    "product = pd.read_csv('../datasets/product.csv')\n",
    "order = pd.read_csv('../datasets/order.csv')\n",
    "stock = pd.read_csv('../datasets/stock.csv')"
   ]
  },
  {
   "cell_type": "code",
   "execution_count": 17,
   "metadata": {},
   "outputs": [],
   "source": [
    "# Data clean up\n",
    "customer.columns = customer.columns.str.strip()\n",
    "shipment.columns = shipment.columns.str.strip()\n",
    "product.columns = product.columns.str.strip()\n",
    "order.columns = order.columns.str.strip()\n",
    "stock.columns = stock.columns.str.strip()"
   ]
  },
  {
   "cell_type": "code",
   "execution_count": 18,
   "metadata": {},
   "outputs": [],
   "source": [
    "# Create/connect to a SQLite database\n",
    "connection = sqlite3.connect('demo.db')"
   ]
  },
  {
   "cell_type": "code",
   "execution_count": 19,
   "metadata": {},
   "outputs": [
    {
     "data": {
      "text/plain": [
       "9994"
      ]
     },
     "execution_count": 19,
     "metadata": {},
     "output_type": "execute_result"
    }
   ],
   "source": [
    "# Load datafiles to SQLite\n",
    "# Set fail;replace;append Atributes \n",
    "customer.to_sql('customer', connection, if_exists='replace')\n",
    "shipment.to_sql('shipment', connection, if_exists='replace')\n",
    "product.to_sql('product', connection, if_exists='replace')\n",
    "order.to_sql('order', connection, if_exists='replace')\n",
    "stock.to_sql('stock', connection, if_exists='replace')"
   ]
  },
  {
   "cell_type": "code",
   "execution_count": 20,
   "metadata": {},
   "outputs": [],
   "source": [
    "# Close connection\n",
    "connection.close()"
   ]
  },
  {
   "cell_type": "code",
   "execution_count": null,
   "metadata": {},
   "outputs": [],
   "source": []
  }
 ],
 "metadata": {
  "kernelspec": {
   "display_name": "base",
   "language": "python",
   "name": "python3"
  },
  "language_info": {
   "codemirror_mode": {
    "name": "ipython",
    "version": 3
   },
   "file_extension": ".py",
   "mimetype": "text/x-python",
   "name": "python",
   "nbconvert_exporter": "python",
   "pygments_lexer": "ipython3",
   "version": "3.9.7"
  },
  "orig_nbformat": 4
 },
 "nbformat": 4,
 "nbformat_minor": 2
}
