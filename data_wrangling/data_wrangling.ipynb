{
 "cells": [
  {
   "attachments": {},
   "cell_type": "markdown",
   "metadata": {},
   "source": [
    "- Author: Maximiliano Lopez Salgado\n",
    "- First Commit: 2023-06-20                      #folowing ISO  8601 Format\n",
    "- Last Commit: 2023-06-20                       #folowing ISO  8601 Format\n",
    "- Description: This notebook is used to perform Data Wrangling on the Superstore dataset"
   ]
  },
  {
   "attachments": {},
   "cell_type": "markdown",
   "metadata": {},
   "source": [
    "## Key Steps in this Data Analysis:\n",
    "\n",
    "1. **Framing the Question:** \n",
    "   - The first step towards any sort of data analysis is to ask the right question(s) from the given data. \n",
    "   - Identifying the objective of the analysis makes it easier to decide on the type(s) of data needed to draw conclusions.\n",
    "\n",
    "2. **Data Wrangling:** \n",
    "   - Data wrangling, sometimes referred to as data munging or data pre-processing, is the process of gathering, assessing, and cleaning \"raw\" data into a form suitable for analysis.\n",
    "\n",
    "\n",
    "3. **Exploratory Data Analysis (EDA):** \n",
    "   - Once the data is collected, cleaned, and processed, it is ready for analysis. \n",
    "   - During this phase, you can use data analysis tools and software to understand, interpret, and derive conclusions based on the requirements.\n",
    "\n",
    "4. **Drawing Conclusions:** \n",
    "   - After completing the analysis phase, the next step is to interpret the analysis and draw conclusions. \n",
    "   - Three key questions to ask at this stage:\n",
    "     - Did the analysis answer my original question?\n",
    "     - Were there any limitations in my analysis that could affect my conclusions?\n",
    "     - Was the analysis sufficient to support decision-making?\n",
    "\n",
    "5. **Communicating Results:** \n",
    "   - Once data has been explored and conclusions have been drawn, it's time to communicate the findings to the relevant audience. \n",
    "   - Effective communication can be achieved through data storytelling, writing blogs, making presentations, or filing reports.\n",
    "\n",
    "**Note:** The five steps of data analysis are not always followed linearly. The process can be iterative, with steps revisited based on new insights or requirements that arise during the analysis.\n"
   ]
  },
  {
   "cell_type": "code",
   "execution_count": 362,
   "metadata": {},
   "outputs": [],
   "source": [
    "# Import libraries\n",
    "import pandas as pd\n",
    "import numpy as np\n",
    "import matplotlib.pyplot as plt\n",
    "import seaborn as sns\n",
    "from scipy import stats\n",
    "import os\n",
    "import warnings"
   ]
  },
  {
   "attachments": {},
   "cell_type": "markdown",
   "metadata": {},
   "source": [
    "## 1. Data Wrangling"
   ]
  },
  {
   "attachments": {},
   "cell_type": "markdown",
   "metadata": {},
   "source": [
    "### 1.1 Gathering data"
   ]
  },
  {
   "cell_type": "code",
   "execution_count": 363,
   "metadata": {},
   "outputs": [],
   "source": [
    "# import csv files \n",
    "superstore_df = pd.read_csv('../datasets/Sample-Superstore.csv', encoding='latin1')"
   ]
  },
  {
   "attachments": {},
   "cell_type": "markdown",
   "metadata": {},
   "source": [
    "### 1.2 Assessing of Data"
   ]
  },
  {
   "cell_type": "code",
   "execution_count": 364,
   "metadata": {},
   "outputs": [
    {
     "data": {
      "text/plain": [
       "(9994, 21)"
      ]
     },
     "metadata": {},
     "output_type": "display_data"
    }
   ],
   "source": [
    "# Take a look of the data´s shape\n",
    "display(superstore_df.shape)"
   ]
  },
  {
   "cell_type": "code",
   "execution_count": 365,
   "metadata": {},
   "outputs": [
    {
     "name": "stdout",
     "output_type": "stream",
     "text": [
      "<class 'pandas.core.frame.DataFrame'>\n",
      "RangeIndex: 9994 entries, 0 to 9993\n",
      "Data columns (total 21 columns):\n",
      " #   Column         Non-Null Count  Dtype  \n",
      "---  ------         --------------  -----  \n",
      " 0   Row ID         9994 non-null   int64  \n",
      " 1   Order ID       9994 non-null   object \n",
      " 2   Order Date     9994 non-null   object \n",
      " 3   Ship Date      9994 non-null   object \n",
      " 4   Ship Mode      9994 non-null   object \n",
      " 5   Customer ID    9994 non-null   object \n",
      " 6   Customer Name  9994 non-null   object \n",
      " 7   Segment        9994 non-null   object \n",
      " 8   Country        9994 non-null   object \n",
      " 9   City           9994 non-null   object \n",
      " 10  State          9994 non-null   object \n",
      " 11  Postal Code    9994 non-null   int64  \n",
      " 12  Region         9994 non-null   object \n",
      " 13  Product ID     9994 non-null   object \n",
      " 14  Category       9994 non-null   object \n",
      " 15  Sub-Category   9994 non-null   object \n",
      " 16  Product Name   9994 non-null   object \n",
      " 17  Sales          9994 non-null   float64\n",
      " 18  Quantity       9994 non-null   int64  \n",
      " 19  Discount       9994 non-null   float64\n",
      " 20  Profit         9994 non-null   float64\n",
      "dtypes: float64(3), int64(3), object(15)\n",
      "memory usage: 1.6+ MB\n"
     ]
    },
    {
     "data": {
      "text/plain": [
       "None"
      ]
     },
     "metadata": {},
     "output_type": "display_data"
    }
   ],
   "source": [
    "# Take a look of the data´s info\n",
    "display(superstore_df.info())"
   ]
  },
  {
   "cell_type": "code",
   "execution_count": 366,
   "metadata": {},
   "outputs": [
    {
     "data": {
      "text/html": [
       "<div>\n",
       "<style scoped>\n",
       "    .dataframe tbody tr th:only-of-type {\n",
       "        vertical-align: middle;\n",
       "    }\n",
       "\n",
       "    .dataframe tbody tr th {\n",
       "        vertical-align: top;\n",
       "    }\n",
       "\n",
       "    .dataframe thead th {\n",
       "        text-align: right;\n",
       "    }\n",
       "</style>\n",
       "<table border=\"1\" class=\"dataframe\">\n",
       "  <thead>\n",
       "    <tr style=\"text-align: right;\">\n",
       "      <th></th>\n",
       "      <th>Row ID</th>\n",
       "      <th>Order ID</th>\n",
       "      <th>Order Date</th>\n",
       "      <th>Ship Date</th>\n",
       "      <th>Ship Mode</th>\n",
       "      <th>Customer ID</th>\n",
       "      <th>Customer Name</th>\n",
       "      <th>Segment</th>\n",
       "      <th>Country</th>\n",
       "      <th>City</th>\n",
       "      <th>...</th>\n",
       "      <th>Postal Code</th>\n",
       "      <th>Region</th>\n",
       "      <th>Product ID</th>\n",
       "      <th>Category</th>\n",
       "      <th>Sub-Category</th>\n",
       "      <th>Product Name</th>\n",
       "      <th>Sales</th>\n",
       "      <th>Quantity</th>\n",
       "      <th>Discount</th>\n",
       "      <th>Profit</th>\n",
       "    </tr>\n",
       "  </thead>\n",
       "  <tbody>\n",
       "    <tr>\n",
       "      <th>0</th>\n",
       "      <td>1</td>\n",
       "      <td>CA-2016-152156</td>\n",
       "      <td>11/8/2016</td>\n",
       "      <td>11/11/2016</td>\n",
       "      <td>Second Class</td>\n",
       "      <td>CG-12520</td>\n",
       "      <td>Claire Gute</td>\n",
       "      <td>Consumer</td>\n",
       "      <td>United States</td>\n",
       "      <td>Henderson</td>\n",
       "      <td>...</td>\n",
       "      <td>42420</td>\n",
       "      <td>South</td>\n",
       "      <td>FUR-BO-10001798</td>\n",
       "      <td>Furniture</td>\n",
       "      <td>Bookcases</td>\n",
       "      <td>Bush Somerset Collection Bookcase</td>\n",
       "      <td>261.9600</td>\n",
       "      <td>2</td>\n",
       "      <td>0.00</td>\n",
       "      <td>41.9136</td>\n",
       "    </tr>\n",
       "    <tr>\n",
       "      <th>1</th>\n",
       "      <td>2</td>\n",
       "      <td>CA-2016-152156</td>\n",
       "      <td>11/8/2016</td>\n",
       "      <td>11/11/2016</td>\n",
       "      <td>Second Class</td>\n",
       "      <td>CG-12520</td>\n",
       "      <td>Claire Gute</td>\n",
       "      <td>Consumer</td>\n",
       "      <td>United States</td>\n",
       "      <td>Henderson</td>\n",
       "      <td>...</td>\n",
       "      <td>42420</td>\n",
       "      <td>South</td>\n",
       "      <td>FUR-CH-10000454</td>\n",
       "      <td>Furniture</td>\n",
       "      <td>Chairs</td>\n",
       "      <td>Hon Deluxe Fabric Upholstered Stacking Chairs,...</td>\n",
       "      <td>731.9400</td>\n",
       "      <td>3</td>\n",
       "      <td>0.00</td>\n",
       "      <td>219.5820</td>\n",
       "    </tr>\n",
       "    <tr>\n",
       "      <th>2</th>\n",
       "      <td>3</td>\n",
       "      <td>CA-2016-138688</td>\n",
       "      <td>6/12/2016</td>\n",
       "      <td>6/16/2016</td>\n",
       "      <td>Second Class</td>\n",
       "      <td>DV-13045</td>\n",
       "      <td>Darrin Van Huff</td>\n",
       "      <td>Corporate</td>\n",
       "      <td>United States</td>\n",
       "      <td>Los Angeles</td>\n",
       "      <td>...</td>\n",
       "      <td>90036</td>\n",
       "      <td>West</td>\n",
       "      <td>OFF-LA-10000240</td>\n",
       "      <td>Office Supplies</td>\n",
       "      <td>Labels</td>\n",
       "      <td>Self-Adhesive Address Labels for Typewriters b...</td>\n",
       "      <td>14.6200</td>\n",
       "      <td>2</td>\n",
       "      <td>0.00</td>\n",
       "      <td>6.8714</td>\n",
       "    </tr>\n",
       "    <tr>\n",
       "      <th>3</th>\n",
       "      <td>4</td>\n",
       "      <td>US-2015-108966</td>\n",
       "      <td>10/11/2015</td>\n",
       "      <td>10/18/2015</td>\n",
       "      <td>Standard Class</td>\n",
       "      <td>SO-20335</td>\n",
       "      <td>Sean O'Donnell</td>\n",
       "      <td>Consumer</td>\n",
       "      <td>United States</td>\n",
       "      <td>Fort Lauderdale</td>\n",
       "      <td>...</td>\n",
       "      <td>33311</td>\n",
       "      <td>South</td>\n",
       "      <td>FUR-TA-10000577</td>\n",
       "      <td>Furniture</td>\n",
       "      <td>Tables</td>\n",
       "      <td>Bretford CR4500 Series Slim Rectangular Table</td>\n",
       "      <td>957.5775</td>\n",
       "      <td>5</td>\n",
       "      <td>0.45</td>\n",
       "      <td>-383.0310</td>\n",
       "    </tr>\n",
       "    <tr>\n",
       "      <th>4</th>\n",
       "      <td>5</td>\n",
       "      <td>US-2015-108966</td>\n",
       "      <td>10/11/2015</td>\n",
       "      <td>10/18/2015</td>\n",
       "      <td>Standard Class</td>\n",
       "      <td>SO-20335</td>\n",
       "      <td>Sean O'Donnell</td>\n",
       "      <td>Consumer</td>\n",
       "      <td>United States</td>\n",
       "      <td>Fort Lauderdale</td>\n",
       "      <td>...</td>\n",
       "      <td>33311</td>\n",
       "      <td>South</td>\n",
       "      <td>OFF-ST-10000760</td>\n",
       "      <td>Office Supplies</td>\n",
       "      <td>Storage</td>\n",
       "      <td>Eldon Fold 'N Roll Cart System</td>\n",
       "      <td>22.3680</td>\n",
       "      <td>2</td>\n",
       "      <td>0.20</td>\n",
       "      <td>2.5164</td>\n",
       "    </tr>\n",
       "  </tbody>\n",
       "</table>\n",
       "<p>5 rows × 21 columns</p>\n",
       "</div>"
      ],
      "text/plain": [
       "   Row ID        Order ID  Order Date   Ship Date       Ship Mode Customer ID  \\\n",
       "0       1  CA-2016-152156   11/8/2016  11/11/2016    Second Class    CG-12520   \n",
       "1       2  CA-2016-152156   11/8/2016  11/11/2016    Second Class    CG-12520   \n",
       "2       3  CA-2016-138688   6/12/2016   6/16/2016    Second Class    DV-13045   \n",
       "3       4  US-2015-108966  10/11/2015  10/18/2015  Standard Class    SO-20335   \n",
       "4       5  US-2015-108966  10/11/2015  10/18/2015  Standard Class    SO-20335   \n",
       "\n",
       "     Customer Name    Segment        Country             City  ...  \\\n",
       "0      Claire Gute   Consumer  United States        Henderson  ...   \n",
       "1      Claire Gute   Consumer  United States        Henderson  ...   \n",
       "2  Darrin Van Huff  Corporate  United States      Los Angeles  ...   \n",
       "3   Sean O'Donnell   Consumer  United States  Fort Lauderdale  ...   \n",
       "4   Sean O'Donnell   Consumer  United States  Fort Lauderdale  ...   \n",
       "\n",
       "  Postal Code  Region       Product ID         Category Sub-Category  \\\n",
       "0       42420   South  FUR-BO-10001798        Furniture    Bookcases   \n",
       "1       42420   South  FUR-CH-10000454        Furniture       Chairs   \n",
       "2       90036    West  OFF-LA-10000240  Office Supplies       Labels   \n",
       "3       33311   South  FUR-TA-10000577        Furniture       Tables   \n",
       "4       33311   South  OFF-ST-10000760  Office Supplies      Storage   \n",
       "\n",
       "                                        Product Name     Sales  Quantity  \\\n",
       "0                  Bush Somerset Collection Bookcase  261.9600         2   \n",
       "1  Hon Deluxe Fabric Upholstered Stacking Chairs,...  731.9400         3   \n",
       "2  Self-Adhesive Address Labels for Typewriters b...   14.6200         2   \n",
       "3      Bretford CR4500 Series Slim Rectangular Table  957.5775         5   \n",
       "4                     Eldon Fold 'N Roll Cart System   22.3680         2   \n",
       "\n",
       "   Discount    Profit  \n",
       "0      0.00   41.9136  \n",
       "1      0.00  219.5820  \n",
       "2      0.00    6.8714  \n",
       "3      0.45 -383.0310  \n",
       "4      0.20    2.5164  \n",
       "\n",
       "[5 rows x 21 columns]"
      ]
     },
     "metadata": {},
     "output_type": "display_data"
    }
   ],
   "source": [
    "# Take a look of the data´s head\n",
    "display(superstore_df.head())"
   ]
  },
  {
   "cell_type": "code",
   "execution_count": 367,
   "metadata": {},
   "outputs": [
    {
     "data": {
      "text/plain": [
       "Index(['Row ID', 'Order ID', 'Order Date', 'Ship Date', 'Ship Mode',\n",
       "       'Customer ID', 'Customer Name', 'Segment', 'Country', 'City', 'State',\n",
       "       'Postal Code', 'Region', 'Product ID', 'Category', 'Sub-Category',\n",
       "       'Product Name', 'Sales', 'Quantity', 'Discount', 'Profit'],\n",
       "      dtype='object')"
      ]
     },
     "metadata": {},
     "output_type": "display_data"
    }
   ],
   "source": [
    "# Search for all columns names\n",
    "display(superstore_df.columns)"
   ]
  },
  {
   "cell_type": "code",
   "execution_count": 368,
   "metadata": {},
   "outputs": [
    {
     "data": {
      "text/plain": [
       "Row ID           0\n",
       "Order ID         0\n",
       "Order Date       0\n",
       "Ship Date        0\n",
       "Ship Mode        0\n",
       "Customer ID      0\n",
       "Customer Name    0\n",
       "Segment          0\n",
       "Country          0\n",
       "City             0\n",
       "State            0\n",
       "Postal Code      0\n",
       "Region           0\n",
       "Product ID       0\n",
       "Category         0\n",
       "Sub-Category     0\n",
       "Product Name     0\n",
       "Sales            0\n",
       "Quantity         0\n",
       "Discount         0\n",
       "Profit           0\n",
       "dtype: int64"
      ]
     },
     "metadata": {},
     "output_type": "display_data"
    }
   ],
   "source": [
    "# Search for NULL values\n",
    "display(superstore_df.isnull().sum())"
   ]
  },
  {
   "cell_type": "code",
   "execution_count": 369,
   "metadata": {},
   "outputs": [
    {
     "data": {
      "text/plain": [
       "Row ID             int64\n",
       "Order ID          object\n",
       "Order Date        object\n",
       "Ship Date         object\n",
       "Ship Mode         object\n",
       "Customer ID       object\n",
       "Customer Name     object\n",
       "Segment           object\n",
       "Country           object\n",
       "City              object\n",
       "State             object\n",
       "Postal Code        int64\n",
       "Region            object\n",
       "Product ID        object\n",
       "Category          object\n",
       "Sub-Category      object\n",
       "Product Name      object\n",
       "Sales            float64\n",
       "Quantity           int64\n",
       "Discount         float64\n",
       "Profit           float64\n",
       "dtype: object"
      ]
     },
     "metadata": {},
     "output_type": "display_data"
    }
   ],
   "source": [
    "# Check the type of information that every column has\n",
    "display(superstore_df.dtypes)"
   ]
  },
  {
   "attachments": {},
   "cell_type": "markdown",
   "metadata": {},
   "source": [
    "### 1.3 Data Cleaning"
   ]
  },
  {
   "attachments": {},
   "cell_type": "markdown",
   "metadata": {},
   "source": [
    "### 1.3.1  Remove irrelevant data"
   ]
  },
  {
   "attachments": {},
   "cell_type": "markdown",
   "metadata": {},
   "source": [
    "The values in the columns are complete, so we don't need to delete any column, nor replace any null value.  \n"
   ]
  },
  {
   "attachments": {},
   "cell_type": "markdown",
   "metadata": {},
   "source": [
    "### 1.3.2  Remove/replace null values\n",
    "    "
   ]
  },
  {
   "attachments": {},
   "cell_type": "markdown",
   "metadata": {},
   "source": [
    "The values in the columns are complete, so we don't need to delete any column, nor replace any null value.  \n"
   ]
  },
  {
   "attachments": {},
   "cell_type": "markdown",
   "metadata": {},
   "source": [
    "The values in the columns are complete, so we don't need to calculate the mean of this column"
   ]
  },
  {
   "attachments": {},
   "cell_type": "markdown",
   "metadata": {},
   "source": [
    "The values in the columns are complete, so we don't need to imput the corresponding values to the null values in thes columns\n"
   ]
  },
  {
   "attachments": {},
   "cell_type": "markdown",
   "metadata": {},
   "source": [
    "### 1.3.3 Drop the duplicates, if any"
   ]
  },
  {
   "attachments": {},
   "cell_type": "markdown",
   "metadata": {},
   "source": [
    "Use duplicate() function to find duplicated data in the datasets"
   ]
  },
  {
   "cell_type": "code",
   "execution_count": 370,
   "metadata": {},
   "outputs": [
    {
     "data": {
      "text/plain": [
       "Row ID           0.0\n",
       "Order ID         0.0\n",
       "Order Date       0.0\n",
       "Ship Date        0.0\n",
       "Ship Mode        0.0\n",
       "Customer ID      0.0\n",
       "Customer Name    0.0\n",
       "Segment          0.0\n",
       "Country          0.0\n",
       "City             0.0\n",
       "State            0.0\n",
       "Postal Code      0.0\n",
       "Region           0.0\n",
       "Product ID       0.0\n",
       "Category         0.0\n",
       "Sub-Category     0.0\n",
       "Product Name     0.0\n",
       "Sales            0.0\n",
       "Quantity         0.0\n",
       "Discount         0.0\n",
       "Profit           0.0\n",
       "dtype: float64"
      ]
     },
     "metadata": {},
     "output_type": "display_data"
    }
   ],
   "source": [
    "# Find duplicates based on all columns\n",
    "display(superstore_df[superstore_df.duplicated()].sum())"
   ]
  },
  {
   "attachments": {},
   "cell_type": "markdown",
   "metadata": {},
   "source": [
    "The values on the columns are complete"
   ]
  },
  {
   "attachments": {},
   "cell_type": "markdown",
   "metadata": {},
   "source": [
    "### 1.3.4 Type conversion"
   ]
  },
  {
   "attachments": {},
   "cell_type": "markdown",
   "metadata": {},
   "source": [
    "Make sure numbers are stored as numerical data types. A date should be stored as a date object, or a Unix timestamp (number of seconds, and so on).\n",
    "In this case we already did this."
   ]
  },
  {
   "attachments": {},
   "cell_type": "markdown",
   "metadata": {},
   "source": [
    "### 1.3.5 Syntax Errors"
   ]
  },
  {
   "cell_type": "code",
   "execution_count": 371,
   "metadata": {},
   "outputs": [],
   "source": [
    "# Rename columns by removing spaces and converting to lowercase\n",
    "new_columns = {col: col.replace(' ', '_').lower() for col in superstore_df.columns}\n",
    "superstore_df.rename(columns=new_columns, inplace=True)"
   ]
  },
  {
   "cell_type": "code",
   "execution_count": 372,
   "metadata": {},
   "outputs": [
    {
     "data": {
      "text/plain": [
       "Index(['row_id', 'order_id', 'order_date', 'ship_date', 'ship_mode',\n",
       "       'customer_id', 'customer_name', 'segment', 'country', 'city', 'state',\n",
       "       'postal_code', 'region', 'product_id', 'category', 'sub-category',\n",
       "       'product_name', 'sales', 'quantity', 'discount', 'profit'],\n",
       "      dtype='object')"
      ]
     },
     "metadata": {},
     "output_type": "display_data"
    }
   ],
   "source": [
    "# Display the updated column names\n",
    "display(superstore_df.columns)"
   ]
  },
  {
   "attachments": {},
   "cell_type": "markdown",
   "metadata": {},
   "source": [
    "### 1.3.6 Outliers"
   ]
  },
  {
   "attachments": {},
   "cell_type": "markdown",
   "metadata": {},
   "source": [
    "The outliers are values that are significantly different from all other observations. Any data value that lies more than (1.5 * IQR) away from the Q1 and Q3 quartiles is considered an outlier.\n",
    "\n",
    "In general, an e-commerce dataset obtained from a well-functioning system is less likely to have outliers compared to datasets that involve manual data entry or measurement errors. E-commerce datasets typically capture transactional information, such as customer details, product information, and order-related data, which are less prone to outliers.\n",
    "\n",
    "However, it's still possible to have outliers in certain scenarios, such as:\n",
    "\n",
    "Data entry errors: Although automated systems minimize data entry errors, there can still be instances where incorrect or extreme values are recorded.\n",
    "\n",
    "Measurement errors: If the dataset includes measurements or quantitative data collected manually, there may be measurement errors leading to outliers.\n",
    "\n",
    "System glitches or anomalies: While rare, system glitches or anomalies can occasionally result in outliers in the data.\n",
    "\n",
    "Fraudulent activities: In some cases, fraudulent transactions or activities may introduce outliers into the dataset.\n",
    "\n",
    "Therefore, while it's reasonable to assume that the occurrence of outliers in an e-commerce dataset is relatively low, it's still advisable to examine the data and apply outlier detection techniques to ensure data quality and integrity.\n",
    "\n",
    "The outlier detection is an iterative process, and there is no one-size-fits-all approach. It requires a combination of domain knowledge, data understanding, and experimentation to determine the most suitable method and threshold for your specific dataset and analysis objectives."
   ]
  },
  {
   "cell_type": "code",
   "execution_count": 373,
   "metadata": {},
   "outputs": [
    {
     "name": "stdout",
     "output_type": "stream",
     "text": [
      "      row_id        order_id  order_date   ship_date       ship_mode  \\\n",
      "0          1  CA-2016-152156   11/8/2016  11/11/2016    Second Class   \n",
      "1          2  CA-2016-152156   11/8/2016  11/11/2016    Second Class   \n",
      "2          3  CA-2016-138688   6/12/2016   6/16/2016    Second Class   \n",
      "3          4  US-2015-108966  10/11/2015  10/18/2015  Standard Class   \n",
      "4          5  US-2015-108966  10/11/2015  10/18/2015  Standard Class   \n",
      "...      ...             ...         ...         ...             ...   \n",
      "9989    9990  CA-2014-110422   1/21/2014   1/23/2014    Second Class   \n",
      "9990    9991  CA-2017-121258   2/26/2017    3/3/2017  Standard Class   \n",
      "9991    9992  CA-2017-121258   2/26/2017    3/3/2017  Standard Class   \n",
      "9992    9993  CA-2017-121258   2/26/2017    3/3/2017  Standard Class   \n",
      "9993    9994  CA-2017-119914    5/4/2017    5/9/2017    Second Class   \n",
      "\n",
      "     customer_id     customer_name    segment        country             city  \\\n",
      "0       CG-12520       Claire Gute   Consumer  United States        Henderson   \n",
      "1       CG-12520       Claire Gute   Consumer  United States        Henderson   \n",
      "2       DV-13045   Darrin Van Huff  Corporate  United States      Los Angeles   \n",
      "3       SO-20335    Sean O'Donnell   Consumer  United States  Fort Lauderdale   \n",
      "4       SO-20335    Sean O'Donnell   Consumer  United States  Fort Lauderdale   \n",
      "...          ...               ...        ...            ...              ...   \n",
      "9989    TB-21400  Tom Boeckenhauer   Consumer  United States            Miami   \n",
      "9990    DB-13060       Dave Brooks   Consumer  United States       Costa Mesa   \n",
      "9991    DB-13060       Dave Brooks   Consumer  United States       Costa Mesa   \n",
      "9992    DB-13060       Dave Brooks   Consumer  United States       Costa Mesa   \n",
      "9993    CC-12220      Chris Cortes   Consumer  United States      Westminster   \n",
      "\n",
      "      ... postal_code  region       product_id         category sub-category  \\\n",
      "0     ...       42420   South  FUR-BO-10001798        Furniture    Bookcases   \n",
      "1     ...       42420   South  FUR-CH-10000454        Furniture       Chairs   \n",
      "2     ...       90036    West  OFF-LA-10000240  Office Supplies       Labels   \n",
      "3     ...       33311   South  FUR-TA-10000577        Furniture       Tables   \n",
      "4     ...       33311   South  OFF-ST-10000760  Office Supplies      Storage   \n",
      "...   ...         ...     ...              ...              ...          ...   \n",
      "9989  ...       33180   South  FUR-FU-10001889        Furniture  Furnishings   \n",
      "9990  ...       92627    West  FUR-FU-10000747        Furniture  Furnishings   \n",
      "9991  ...       92627    West  TEC-PH-10003645       Technology       Phones   \n",
      "9992  ...       92627    West  OFF-PA-10004041  Office Supplies        Paper   \n",
      "9993  ...       92683    West  OFF-AP-10002684  Office Supplies   Appliances   \n",
      "\n",
      "                                           product_name     sales  quantity  \\\n",
      "0                     Bush Somerset Collection Bookcase  261.9600         2   \n",
      "1     Hon Deluxe Fabric Upholstered Stacking Chairs,...  731.9400         3   \n",
      "2     Self-Adhesive Address Labels for Typewriters b...   14.6200         2   \n",
      "3         Bretford CR4500 Series Slim Rectangular Table  957.5775         5   \n",
      "4                        Eldon Fold 'N Roll Cart System   22.3680         2   \n",
      "...                                                 ...       ...       ...   \n",
      "9989                             Ultra Door Pull Handle   25.2480         3   \n",
      "9990  Tenex B1-RE Series Chair Mats for Low Pile Car...   91.9600         2   \n",
      "9991                              Aastra 57i VoIP phone  258.5760         2   \n",
      "9992  It's Hot Message Books with Stickers, 2 3/4\" x 5\"   29.6000         4   \n",
      "9993  Acco 7-Outlet Masterpiece Power Center, Wihtou...  243.1600         2   \n",
      "\n",
      "      discount    profit  \n",
      "0         0.00   41.9136  \n",
      "1         0.00  219.5820  \n",
      "2         0.00    6.8714  \n",
      "3         0.45 -383.0310  \n",
      "4         0.20    2.5164  \n",
      "...        ...       ...  \n",
      "9989      0.20    4.1028  \n",
      "9990      0.00   15.6332  \n",
      "9991      0.20   19.3932  \n",
      "9992      0.00   13.3200  \n",
      "9993      0.00   72.9480  \n",
      "\n",
      "[1000 rows x 21 columns]\n",
      "\n",
      "\n",
      "      row_id        order_id  order_date   ship_date       ship_mode  \\\n",
      "13        14  CA-2016-161389   12/5/2016  12/10/2016  Standard Class   \n",
      "117      118  CA-2015-110457    3/2/2015    3/6/2015  Standard Class   \n",
      "156      157  CA-2015-118948   5/28/2015    6/3/2015  Standard Class   \n",
      "157      158  CA-2014-104269    3/1/2014    3/6/2014    Second Class   \n",
      "163      164  CA-2016-113817   11/7/2016  11/11/2016  Standard Class   \n",
      "...      ...             ...         ...         ...             ...   \n",
      "9936    9937  CA-2017-132955   6/24/2017   6/28/2017  Standard Class   \n",
      "9944    9945  CA-2015-145415   4/12/2015   4/17/2015    Second Class   \n",
      "9967    9968  CA-2017-153871  12/11/2017  12/17/2017  Standard Class   \n",
      "9968    9969  CA-2017-153871  12/11/2017  12/17/2017  Standard Class   \n",
      "9969    9970  CA-2017-153871  12/11/2017  12/17/2017  Standard Class   \n",
      "\n",
      "     customer_id    customer_name      segment        country        city  \\\n",
      "13      IM-15070     Irene Maddox     Consumer  United States     Seattle   \n",
      "117     DK-13090        Dave Kipp     Consumer  United States     Seattle   \n",
      "156     NK-18490     Neil Knudson  Home Office  United States     Seattle   \n",
      "157     DB-13060      Dave Brooks     Consumer  United States     Seattle   \n",
      "163     MJ-17740        Max Jones     Consumer  United States     Seattle   \n",
      "...          ...              ...          ...            ...         ...   \n",
      "9936    SC-20575     Sonia Cooley     Consumer  United States    Cranston   \n",
      "9944    RD-19660   Robert Dilbeck  Home Office  United States     Seattle   \n",
      "9967    RB-19435  Richard Bierner     Consumer  United States  Plainfield   \n",
      "9968    RB-19435  Richard Bierner     Consumer  United States  Plainfield   \n",
      "9969    RB-19435  Richard Bierner     Consumer  United States  Plainfield   \n",
      "\n",
      "      ... postal_code  region       product_id         category sub-category  \\\n",
      "13    ...       98103    West  OFF-BI-10003656  Office Supplies      Binders   \n",
      "117   ...       98103    West  FUR-TA-10001768        Furniture       Tables   \n",
      "156   ...       98105    West  OFF-AR-10001547  Office Supplies          Art   \n",
      "157   ...       98115    West  FUR-CH-10004063        Furniture       Chairs   \n",
      "163   ...       98115    West  OFF-BI-10004002  Office Supplies      Binders   \n",
      "...   ...         ...     ...              ...              ...          ...   \n",
      "9936  ...        2920    East  OFF-BI-10002735  Office Supplies      Binders   \n",
      "9944  ...       98103    West  OFF-ST-10000419  Office Supplies      Storage   \n",
      "9967  ...        7060    East  OFF-BI-10004209  Office Supplies      Binders   \n",
      "9968  ...        7060    East  OFF-BI-10004600  Office Supplies      Binders   \n",
      "9969  ...        7060    East  OFF-AP-10003622  Office Supplies   Appliances   \n",
      "\n",
      "                                           product_name    sales  quantity  \\\n",
      "13          Fellowes PB200 Plastic Comb Binding Machine  407.976         3   \n",
      "117                     Hon Racetrack Conference Tables  787.530         3   \n",
      "156                                          Newell 311    6.630         3   \n",
      "157             Global Deluxe High-Back Manager's Chair  457.568         2   \n",
      "163     Wilson Jones International Size A4 Ring Binders   27.680         2   \n",
      "...                                                 ...      ...       ...   \n",
      "9936                   GBC Prestige Therm-A-Bind Covers  102.930         3   \n",
      "9944                         Rogers Jumbo File, Granite   40.740         3   \n",
      "9967            Fellowes Twister Kit, Gray/Clear, 3/pkg   40.200         5   \n",
      "9968          Ibico Ibimaster 300 Manual Binding System  735.980         2   \n",
      "9969  Bravo II Megaboss 12-Amp Hard Body Upright, Re...   22.750         7   \n",
      "\n",
      "      discount    profit  \n",
      "13         0.2  132.5922  \n",
      "117        0.0  165.3813  \n",
      "156        0.0    1.7901  \n",
      "157        0.2   51.4764  \n",
      "163        0.2    9.6880  \n",
      "...        ...       ...  \n",
      "9936       0.0   48.3771  \n",
      "9944       0.0    0.4074  \n",
      "9967       0.0   18.0900  \n",
      "9968       0.0  331.1910  \n",
      "9969       0.0    6.5975  \n",
      "\n",
      "[948 rows x 21 columns]\n",
      "\n",
      "\n",
      "      row_id        order_id  order_date   ship_date       ship_mode  \\\n",
      "3          4  US-2015-108966  10/11/2015  10/18/2015  Standard Class   \n",
      "10        11  CA-2014-115812    6/9/2014   6/14/2014  Standard Class   \n",
      "15        16  US-2015-118983  11/22/2015  11/26/2015  Standard Class   \n",
      "24        25  CA-2015-106320   9/25/2015   9/30/2015  Standard Class   \n",
      "27        28  US-2015-150630   9/17/2015   9/21/2015  Standard Class   \n",
      "...      ...             ...         ...         ...             ...   \n",
      "9929    9930  CA-2016-129630    9/4/2016    9/4/2016        Same Day   \n",
      "9942    9943  CA-2014-143371  12/28/2014    1/3/2015  Standard Class   \n",
      "9945    9946  CA-2014-111157    3/2/2014    3/6/2014  Standard Class   \n",
      "9947    9948  CA-2017-121559    6/1/2017    6/3/2017    Second Class   \n",
      "9948    9949  CA-2017-121559    6/1/2017    6/3/2017    Second Class   \n",
      "\n",
      "     customer_id    customer_name      segment        country  \\\n",
      "3       SO-20335   Sean O'Donnell     Consumer  United States   \n",
      "10      BH-11710  Brosina Hoffman     Consumer  United States   \n",
      "15      HP-14815    Harold Pawlan  Home Office  United States   \n",
      "24      EB-13870      Emily Burns     Consumer  United States   \n",
      "27      TB-21520  Tracy Blumstein     Consumer  United States   \n",
      "...          ...              ...          ...            ...   \n",
      "9929    IM-15055    Ionia McGrath     Consumer  United States   \n",
      "9942    MD-17350    Maribeth Dona     Consumer  United States   \n",
      "9945    NH-18610    Nicole Hansen    Corporate  United States   \n",
      "9947    HW-14935  Helen Wasserman    Corporate  United States   \n",
      "9948    HW-14935  Helen Wasserman    Corporate  United States   \n",
      "\n",
      "                 city  ... postal_code   region       product_id  \\\n",
      "3     Fort Lauderdale  ...       33311    South  FUR-TA-10000577   \n",
      "10        Los Angeles  ...       90032     West  FUR-TA-10001539   \n",
      "15         Fort Worth  ...       76106  Central  OFF-BI-10000756   \n",
      "24               Orem  ...       84057     West  FUR-TA-10000577   \n",
      "27       Philadelphia  ...       19140     East  FUR-BO-10004834   \n",
      "...               ...  ...         ...      ...              ...   \n",
      "9929    San Francisco  ...       94122     West  TEC-CO-10003763   \n",
      "9942          Anaheim  ...       92804     West  OFF-ST-10001128   \n",
      "9945     Philadelphia  ...       19120     East  OFF-PA-10000327   \n",
      "9947     Indianapolis  ...       46203  Central  FUR-CH-10003746   \n",
      "9948     Indianapolis  ...       46203  Central  OFF-AP-10002945   \n",
      "\n",
      "             category sub-category  \\\n",
      "3           Furniture       Tables   \n",
      "10          Furniture       Tables   \n",
      "15    Office Supplies      Binders   \n",
      "24          Furniture       Tables   \n",
      "27          Furniture    Bookcases   \n",
      "...               ...          ...   \n",
      "9929       Technology      Copiers   \n",
      "9942  Office Supplies      Storage   \n",
      "9945  Office Supplies        Paper   \n",
      "9947        Furniture       Chairs   \n",
      "9948  Office Supplies   Appliances   \n",
      "\n",
      "                                           product_name      sales  quantity  \\\n",
      "3         Bretford CR4500 Series Slim Rectangular Table   957.5775         5   \n",
      "10             Chromcraft Rectangular Conference Tables  1706.1840         9   \n",
      "15     Storex DuraTech Recycled Plastic Frosted Binders     2.5440         3   \n",
      "24        Bretford CR4500 Series Slim Rectangular Table  1044.6300         3   \n",
      "27    Riverside Palais Royal Lawyers Bookcase, Royal...  3083.4300         7   \n",
      "...                                                 ...        ...       ...   \n",
      "9929                 Canon PC1060 Personal Laser Copier  2799.9600         5   \n",
      "9942        Carina Mini System Audio Rack, Model AR050B   998.8200         9   \n",
      "9945                                         Xerox 1971     3.4240         1   \n",
      "9947  Hon 4070 Series Pagoda Round Back Stacking Chairs  1925.8800         6   \n",
      "9948  Honeywell Enviracaire Portable HEPA Air Cleane...  2405.2000         8   \n",
      "\n",
      "      discount     profit  \n",
      "3         0.45  -383.0310  \n",
      "10        0.20    85.3092  \n",
      "15        0.80    -3.8160  \n",
      "24        0.00   240.2649  \n",
      "27        0.50 -1665.0522  \n",
      "...        ...        ...  \n",
      "9929      0.20   944.9865  \n",
      "9942      0.00    29.9646  \n",
      "9945      0.20     1.0700  \n",
      "9947      0.00   539.2464  \n",
      "9948      0.00   793.7160  \n",
      "\n",
      "[999 rows x 21 columns]\n",
      "\n",
      "\n",
      "      row_id        order_id  order_date   ship_date       ship_mode  \\\n",
      "10        11  CA-2014-115812    6/9/2014   6/14/2014  Standard Class   \n",
      "37        38  CA-2015-117415  12/27/2015  12/31/2015  Standard Class   \n",
      "113      114  CA-2014-115259   8/25/2014   8/27/2014    Second Class   \n",
      "122      123  CA-2016-103730   6/12/2016   6/15/2016     First Class   \n",
      "132      133  US-2017-164147    2/2/2017    2/5/2017     First Class   \n",
      "...      ...             ...         ...         ...             ...   \n",
      "9895    9896  CA-2014-115049   9/26/2014   10/1/2014  Standard Class   \n",
      "9941    9942  CA-2017-164028  11/24/2017  11/30/2017  Standard Class   \n",
      "9942    9943  CA-2014-143371  12/28/2014    1/3/2015  Standard Class   \n",
      "9979    9980  US-2016-103674   12/6/2016  12/10/2016  Standard Class   \n",
      "9984    9985  CA-2015-100251   5/17/2015   5/23/2015  Standard Class   \n",
      "\n",
      "     customer_id      customer_name      segment        country  \\\n",
      "10      BH-11710    Brosina Hoffman     Consumer  United States   \n",
      "37      SN-20710       Steve Nguyen  Home Office  United States   \n",
      "113     RC-19960         Ryan Crowe     Consumer  United States   \n",
      "122     SC-20725  Steven Cartwright     Consumer  United States   \n",
      "132     DW-13585     Dorothy Wardle    Corporate  United States   \n",
      "...          ...                ...          ...            ...   \n",
      "9895    MM-17920      Michael Moore     Consumer  United States   \n",
      "9941    JL-15835           John Lee     Consumer  United States   \n",
      "9942    MD-17350      Maribeth Dona     Consumer  United States   \n",
      "9979    AP-10720         Anne Pryor  Home Office  United States   \n",
      "9984    DV-13465   Dianna Vittorini     Consumer  United States   \n",
      "\n",
      "               city  ... postal_code   region       product_id  \\\n",
      "10      Los Angeles  ...       90032     West  FUR-TA-10001539   \n",
      "37          Houston  ...       77041  Central  OFF-EN-10002986   \n",
      "113        Columbus  ...       43229     East  OFF-FA-10000621   \n",
      "122      Wilmington  ...       19805     East  OFF-EN-10002500   \n",
      "132        Columbus  ...       43229     East  OFF-FA-10002780   \n",
      "...             ...  ...         ...      ...              ...   \n",
      "9895        Chicago  ...       60623  Central  TEC-AC-10004859   \n",
      "9941  San Francisco  ...       94122     West  TEC-AC-10001772   \n",
      "9942        Anaheim  ...       92804     West  OFF-ST-10001128   \n",
      "9979    Los Angeles  ...       90032     West  OFF-BI-10002026   \n",
      "9984     Long Beach  ...       11561     East  OFF-LA-10003766   \n",
      "\n",
      "             category sub-category  \\\n",
      "10          Furniture       Tables   \n",
      "37    Office Supplies    Envelopes   \n",
      "113   Office Supplies    Fasteners   \n",
      "122   Office Supplies    Envelopes   \n",
      "132   Office Supplies    Fasteners   \n",
      "...               ...          ...   \n",
      "9895       Technology  Accessories   \n",
      "9941       Technology  Accessories   \n",
      "9942  Office Supplies      Storage   \n",
      "9979  Office Supplies      Binders   \n",
      "9984  Office Supplies       Labels   \n",
      "\n",
      "                                           product_name     sales  quantity  \\\n",
      "10             Chromcraft Rectangular Conference Tables  1706.184         9   \n",
      "37    #10-4 1/8\" x 9 1/2\" Premium Diagonal Seam Enve...   113.328         9   \n",
      "113            OIC Colored Binder Clips, Assorted Sizes    40.096        14   \n",
      "122        Globe Weis Peel & Seel First Class Envelopes   115.020         9   \n",
      "132                                             Staples    21.456         9   \n",
      "...                                                 ...       ...       ...   \n",
      "9895                 Maxell Pro 80 Minute CD-R, 10/Pack   153.824        11   \n",
      "9941  Memorex Mini Travel Drive 16 GB USB 2.0 Flash ...   223.580        14   \n",
      "9942        Carina Mini System Audio Rack, Model AR050B   998.820         9   \n",
      "9979                  Ibico Recycled Linen-Style Covers   437.472        14   \n",
      "9984                     Self-Adhesive Removable Labels    31.500        10   \n",
      "\n",
      "      discount    profit  \n",
      "10         0.2   85.3092  \n",
      "37         0.2   35.4150  \n",
      "113        0.2   14.5348  \n",
      "122        0.0   51.7590  \n",
      "132        0.2    6.9732  \n",
      "...        ...       ...  \n",
      "9895       0.2   38.4560  \n",
      "9941       0.0   87.1962  \n",
      "9942       0.0   29.9646  \n",
      "9979       0.2  153.1152  \n",
      "9984       0.0   15.1200  \n",
      "\n",
      "[428 rows x 21 columns]\n",
      "\n",
      "\n",
      "      row_id        order_id  order_date   ship_date       ship_mode  \\\n",
      "14        15  US-2015-118983  11/22/2015  11/26/2015  Standard Class   \n",
      "15        16  US-2015-118983  11/22/2015  11/26/2015  Standard Class   \n",
      "75        76  US-2017-118038   12/9/2017  12/11/2017     First Class   \n",
      "101      102  CA-2016-158568   8/29/2016    9/2/2016  Standard Class   \n",
      "169      170  CA-2014-139892    9/8/2014   9/12/2014  Standard Class   \n",
      "...      ...             ...         ...         ...             ...   \n",
      "9794    9795  CA-2014-127166   5/21/2014   5/23/2014    Second Class   \n",
      "9795    9796  CA-2016-125920   5/21/2016   5/28/2016  Standard Class   \n",
      "9808    9809  CA-2017-145093   7/21/2017   7/26/2017  Standard Class   \n",
      "9835    9836  CA-2016-126627  10/10/2016  10/12/2016     First Class   \n",
      "9920    9921  CA-2016-149272   3/15/2016   3/19/2016  Standard Class   \n",
      "\n",
      "     customer_id     customer_name      segment        country         city  \\\n",
      "14      HP-14815     Harold Pawlan  Home Office  United States   Fort Worth   \n",
      "15      HP-14815     Harold Pawlan  Home Office  United States   Fort Worth   \n",
      "75      KB-16600       Ken Brennan    Corporate  United States      Houston   \n",
      "101     RB-19465      Rick Bensley  Home Office  United States      Chicago   \n",
      "169     BM-11140      Becky Martin     Consumer  United States  San Antonio   \n",
      "...          ...               ...          ...            ...          ...   \n",
      "9794    KH-16360  Katherine Hughes     Consumer  United States      Houston   \n",
      "9795    SH-19975     Sally Hughsby    Corporate  United States      Chicago   \n",
      "9808    PT-19090     Pete Takahito     Consumer  United States      Chicago   \n",
      "9835    WB-21850     William Brown     Consumer  United States     La Porte   \n",
      "9920    MY-18295   Muhammed Yedwab    Corporate  United States        Bryan   \n",
      "\n",
      "      ... postal_code   region       product_id         category sub-category  \\\n",
      "14    ...       76106  Central  OFF-AP-10002311  Office Supplies   Appliances   \n",
      "15    ...       76106  Central  OFF-BI-10000756  Office Supplies      Binders   \n",
      "75    ...       77041  Central  OFF-BI-10004182  Office Supplies      Binders   \n",
      "101   ...       60610  Central  OFF-BI-10002609  Office Supplies      Binders   \n",
      "169   ...       78207  Central  OFF-AP-10002518  Office Supplies   Appliances   \n",
      "...   ...         ...      ...              ...              ...          ...   \n",
      "9794  ...       77070  Central  OFF-BI-10000977  Office Supplies      Binders   \n",
      "9795  ...       60610  Central  OFF-BI-10003429  Office Supplies      Binders   \n",
      "9808  ...       60623  Central  OFF-BI-10001116  Office Supplies      Binders   \n",
      "9835  ...       77571  Central  OFF-BI-10001597  Office Supplies      Binders   \n",
      "9920  ...       77803  Central  OFF-BI-10004233  Office Supplies      Binders   \n",
      "\n",
      "                                           product_name    sales  quantity  \\\n",
      "14    Holmes Replacement Filter for HEPA Air Cleaner...   68.810         5   \n",
      "15     Storex DuraTech Recycled Plastic Frosted Binders    2.544         3   \n",
      "75                                      Economy Binders    1.248         3   \n",
      "101       Avery Hidden Tab Dividers for Binding Systems    1.788         3   \n",
      "169        Kensington 7 Outlet MasterPiece Power Center  177.980         5   \n",
      "...                                                 ...      ...       ...   \n",
      "9794                 Ibico Plastic Spiral Binding Combs   18.240         3   \n",
      "9795  Cardinal HOLDit! Binder Insert Strips,Extra St...    3.798         3   \n",
      "9808      Wilson Jones 1\" Hanging DublLock Ring Binders    2.112         2   \n",
      "9835  Wilson Jones Ledger-Size, Piano-Hinge Binder, ...   16.392         2   \n",
      "9920  GBC Pre-Punched Binding Paper, Plastic, White,...   22.386         7   \n",
      "\n",
      "      discount    profit  \n",
      "14         0.8 -123.8580  \n",
      "15         0.8   -3.8160  \n",
      "75         0.8   -1.9344  \n",
      "101        0.8   -3.0396  \n",
      "169        0.8 -453.8490  \n",
      "...        ...       ...  \n",
      "9794       0.8  -31.0080  \n",
      "9795       0.8   -5.8869  \n",
      "9808       0.8   -3.3792  \n",
      "9835       0.8  -26.2272  \n",
      "9920       0.8  -35.8176  \n",
      "\n",
      "[300 rows x 21 columns]\n",
      "\n",
      "\n",
      "      row_id        order_id  order_date   ship_date       ship_mode  \\\n",
      "1          2  CA-2016-152156   11/8/2016  11/11/2016    Second Class   \n",
      "3          4  US-2015-108966  10/11/2015  10/18/2015  Standard Class   \n",
      "14        15  US-2015-118983  11/22/2015  11/26/2015  Standard Class   \n",
      "24        25  CA-2015-106320   9/25/2015   9/30/2015  Standard Class   \n",
      "27        28  US-2015-150630   9/17/2015   9/21/2015  Standard Class   \n",
      "...      ...             ...         ...         ...             ...   \n",
      "9929    9930  CA-2016-129630    9/4/2016    9/4/2016        Same Day   \n",
      "9947    9948  CA-2017-121559    6/1/2017    6/3/2017    Second Class   \n",
      "9948    9949  CA-2017-121559    6/1/2017    6/3/2017    Second Class   \n",
      "9962    9963  CA-2015-168088   3/19/2015   3/22/2015     First Class   \n",
      "9968    9969  CA-2017-153871  12/11/2017  12/17/2017  Standard Class   \n",
      "\n",
      "     customer_id     customer_name      segment        country  \\\n",
      "1       CG-12520       Claire Gute     Consumer  United States   \n",
      "3       SO-20335    Sean O'Donnell     Consumer  United States   \n",
      "14      HP-14815     Harold Pawlan  Home Office  United States   \n",
      "24      EB-13870       Emily Burns     Consumer  United States   \n",
      "27      TB-21520   Tracy Blumstein     Consumer  United States   \n",
      "...          ...               ...          ...            ...   \n",
      "9929    IM-15055     Ionia McGrath     Consumer  United States   \n",
      "9947    HW-14935   Helen Wasserman    Corporate  United States   \n",
      "9948    HW-14935   Helen Wasserman    Corporate  United States   \n",
      "9962    CM-12655  Corinna Mitchell  Home Office  United States   \n",
      "9968    RB-19435   Richard Bierner     Consumer  United States   \n",
      "\n",
      "                 city  ... postal_code   region       product_id  \\\n",
      "1           Henderson  ...       42420    South  FUR-CH-10000454   \n",
      "3     Fort Lauderdale  ...       33311    South  FUR-TA-10000577   \n",
      "14         Fort Worth  ...       76106  Central  OFF-AP-10002311   \n",
      "24               Orem  ...       84057     West  FUR-TA-10000577   \n",
      "27       Philadelphia  ...       19140     East  FUR-BO-10004834   \n",
      "...               ...  ...         ...      ...              ...   \n",
      "9929    San Francisco  ...       94122     West  TEC-CO-10003763   \n",
      "9947     Indianapolis  ...       46203  Central  FUR-CH-10003746   \n",
      "9948     Indianapolis  ...       46203  Central  OFF-AP-10002945   \n",
      "9962          Houston  ...       77041  Central  FUR-BO-10004218   \n",
      "9968       Plainfield  ...        7060     East  OFF-BI-10004600   \n",
      "\n",
      "             category sub-category  \\\n",
      "1           Furniture       Chairs   \n",
      "3           Furniture       Tables   \n",
      "14    Office Supplies   Appliances   \n",
      "24          Furniture       Tables   \n",
      "27          Furniture    Bookcases   \n",
      "...               ...          ...   \n",
      "9929       Technology      Copiers   \n",
      "9947        Furniture       Chairs   \n",
      "9948  Office Supplies   Appliances   \n",
      "9962        Furniture    Bookcases   \n",
      "9968  Office Supplies      Binders   \n",
      "\n",
      "                                           product_name      sales  quantity  \\\n",
      "1     Hon Deluxe Fabric Upholstered Stacking Chairs,...   731.9400         3   \n",
      "3         Bretford CR4500 Series Slim Rectangular Table   957.5775         5   \n",
      "14    Holmes Replacement Filter for HEPA Air Cleaner...    68.8100         5   \n",
      "24        Bretford CR4500 Series Slim Rectangular Table  1044.6300         3   \n",
      "27    Riverside Palais Royal Lawyers Bookcase, Royal...  3083.4300         7   \n",
      "...                                                 ...        ...       ...   \n",
      "9929                 Canon PC1060 Personal Laser Copier  2799.9600         5   \n",
      "9947  Hon 4070 Series Pagoda Round Back Stacking Chairs  1925.8800         6   \n",
      "9948  Honeywell Enviracaire Portable HEPA Air Cleane...  2405.2000         8   \n",
      "9962  Bush Heritage Pine Collection 5-Shelf Bookcase...   383.4656         4   \n",
      "9968          Ibico Ibimaster 300 Manual Binding System   735.9800         2   \n",
      "\n",
      "      discount     profit  \n",
      "1         0.00   219.5820  \n",
      "3         0.45  -383.0310  \n",
      "14        0.80  -123.8580  \n",
      "24        0.00   240.2649  \n",
      "27        0.50 -1665.0522  \n",
      "...        ...        ...  \n",
      "9929      0.20   944.9865  \n",
      "9947      0.00   539.2464  \n",
      "9948      0.00   793.7160  \n",
      "9962      0.32   -67.6704  \n",
      "9968      0.00   331.1910  \n",
      "\n",
      "[999 rows x 21 columns]\n",
      "\n",
      "\n"
     ]
    }
   ],
   "source": [
    "# Create a function to find otliers\n",
    "dataframes = [superstore_df]\n",
    "\n",
    "for df in dataframes:\n",
    "    # Identify numerical columns\n",
    "    numerical_columns = superstore_df.select_dtypes(include=np.number).columns\n",
    "\n",
    "    # Define percentiles for outlier detection (e.g., values outside [5th percentile, 95th percentile])\n",
    "    lower_percentile = 5\n",
    "    upper_percentile = 95\n",
    "\n",
    "    for column in numerical_columns:\n",
    "        # Calculate percentiles for the column\n",
    "        lower_threshold = np.percentile(df[column], lower_percentile)\n",
    "        upper_threshold = np.percentile(df[column], upper_percentile)\n",
    "\n",
    "        # Find rows with outliers in the column\n",
    "        outlier_rows = (df[column] < lower_threshold) | (df[column] > upper_threshold)\n",
    "\n",
    "        # Print rows with outliers in the column\n",
    "        print(superstore_df[outlier_rows])\n",
    "        print('\\n')"
   ]
  },
  {
   "attachments": {},
   "cell_type": "markdown",
   "metadata": {},
   "source": [
    "After performing outlier analysis we indentified that because of the nature of the info, there are not relevant outliers, althought numerically there are some that exists. "
   ]
  },
  {
   "attachments": {},
   "cell_type": "markdown",
   "metadata": {},
   "source": [
    "### 1.3.7 In-record & cross-datasets errors"
   ]
  },
  {
   "attachments": {},
   "cell_type": "markdown",
   "metadata": {},
   "source": [
    "These errors result from having two or more values in the same row or across datasets that contradict with each other. For example, if we have a dataset about the cost of living in cities. The total column must be equivalent to the sum of rent, transport, and food."
   ]
  },
  {
   "attachments": {},
   "cell_type": "markdown",
   "metadata": {},
   "source": [
    "## Divide the 'Superstore_DF' into smaller DataFrames"
   ]
  },
  {
   "attachments": {},
   "cell_type": "markdown",
   "metadata": {},
   "source": [
    "To prepare for creating a database and future tables, we will split the Superstore_df into smaller DataFrames. If needed, we will also create new columns to serve as primary keys for the new tables. This separation and transformation will facilitate the organization and structure of the data for efficient database management and query operations.\n",
    "\n",
    "\n",
    "\n",
    "\n"
   ]
  },
  {
   "cell_type": "code",
   "execution_count": 374,
   "metadata": {},
   "outputs": [
    {
     "data": {
      "text/plain": [
       "Index(['row_id', 'order_id', 'order_date', 'ship_date', 'ship_mode',\n",
       "       'customer_id', 'customer_name', 'segment', 'country', 'city', 'state',\n",
       "       'postal_code', 'region', 'product_id', 'category', 'sub-category',\n",
       "       'product_name', 'sales', 'quantity', 'discount', 'profit'],\n",
       "      dtype='object')"
      ]
     },
     "metadata": {},
     "output_type": "display_data"
    }
   ],
   "source": [
    "# Display the updated column names\n",
    "display(superstore_df.columns)"
   ]
  },
  {
   "cell_type": "code",
   "execution_count": 375,
   "metadata": {},
   "outputs": [
    {
     "data": {
      "text/plain": [
       "(9994, 21)"
      ]
     },
     "execution_count": 375,
     "metadata": {},
     "output_type": "execute_result"
    }
   ],
   "source": [
    "superstore_df.shape"
   ]
  },
  {
   "attachments": {},
   "cell_type": "markdown",
   "metadata": {},
   "source": [
    "### Customer Table"
   ]
  },
  {
   "cell_type": "code",
   "execution_count": 376,
   "metadata": {},
   "outputs": [],
   "source": [
    "# Create a df called customer and its own primary key column (called 'customer_id')\n",
    "customer = superstore_df[['customer_id', 'customer_name', 'segment']]       #------> customer_id = Primary Key\n"
   ]
  },
  {
   "attachments": {},
   "cell_type": "markdown",
   "metadata": {},
   "source": [
    "### Product Table"
   ]
  },
  {
   "cell_type": "code",
   "execution_count": 377,
   "metadata": {},
   "outputs": [],
   "source": [
    "# Create a df called product\n",
    "product = superstore_df[['product_id', 'category', 'sub-category', 'product_name']]      ##------> product_id = Primary Key\n"
   ]
  },
  {
   "attachments": {},
   "cell_type": "markdown",
   "metadata": {},
   "source": [
    "### Sale Table"
   ]
  },
  {
   "cell_type": "code",
   "execution_count": 378,
   "metadata": {},
   "outputs": [
    {
     "name": "stdout",
     "output_type": "stream",
     "text": [
      "         price  quantity  discount    profit transaction_id\n",
      "0     261.9600         2      0.00   41.9136       Tr-00001\n",
      "1     731.9400         3      0.00  219.5820       Tr-00002\n",
      "2      14.6200         2      0.00    6.8714       Tr-00003\n",
      "3     957.5775         5      0.45 -383.0310       Tr-00004\n",
      "4      22.3680         2      0.20    2.5164       Tr-00005\n",
      "...        ...       ...       ...       ...            ...\n",
      "9989   25.2480         3      0.20    4.1028       Tr-09990\n",
      "9990   91.9600         2      0.00   15.6332       Tr-09991\n",
      "9991  258.5760         2      0.20   19.3932       Tr-09992\n",
      "9992   29.6000         4      0.00   13.3200       Tr-09993\n",
      "9993  243.1600         2      0.00   72.9480       Tr-09994\n",
      "\n",
      "[9994 rows x 5 columns]\n"
     ]
    }
   ],
   "source": [
    "# Create a df called sale\n",
    "sale = superstore_df[['sales', 'quantity', 'discount', 'profit']]      \n",
    "sale = sale.rename(columns={'sales': 'price'})\n",
    "sale['transaction_id'] = np.nan        #------> transaction_id = This will be the Primary Key\n",
    "\n",
    "# Generate the transaction IDs\n",
    "sale['transaction_id'] = pd.Series(range(1, len(sale) + 1)).apply(lambda x: 'Tr-' + str(x).zfill(5))\n",
    "\n",
    "# Print the updated DataFrame\n",
    "print(sale)"
   ]
  },
  {
   "attachments": {},
   "cell_type": "markdown",
   "metadata": {},
   "source": [
    "### Geolocation Table"
   ]
  },
  {
   "cell_type": "code",
   "execution_count": 379,
   "metadata": {},
   "outputs": [
    {
     "name": "stdout",
     "output_type": "stream",
     "text": [
      "            country             city       state  postal_code region  \\\n",
      "0     United States        Henderson    Kentucky        42420  South   \n",
      "1     United States        Henderson    Kentucky        42420  South   \n",
      "2     United States      Los Angeles  California        90036   West   \n",
      "3     United States  Fort Lauderdale     Florida        33311  South   \n",
      "4     United States  Fort Lauderdale     Florida        33311  South   \n",
      "...             ...              ...         ...          ...    ...   \n",
      "9989  United States            Miami     Florida        33180  South   \n",
      "9990  United States       Costa Mesa  California        92627   West   \n",
      "9991  United States       Costa Mesa  California        92627   West   \n",
      "9992  United States       Costa Mesa  California        92627   West   \n",
      "9993  United States      Westminster  California        92683   West   \n",
      "\n",
      "     geolocation_id  \n",
      "0         geo-00001  \n",
      "1         geo-00002  \n",
      "2         geo-00003  \n",
      "3         geo-00004  \n",
      "4         geo-00005  \n",
      "...             ...  \n",
      "9989      geo-09990  \n",
      "9990      geo-09991  \n",
      "9991      geo-09992  \n",
      "9992      geo-09993  \n",
      "9993      geo-09994  \n",
      "\n",
      "[9994 rows x 6 columns]\n"
     ]
    },
    {
     "name": "stderr",
     "output_type": "stream",
     "text": [
      "/var/folders/zh/sct9634x6kvcb6_5gkff84nh0000gn/T/ipykernel_2777/3429875246.py:2: SettingWithCopyWarning: \n",
      "A value is trying to be set on a copy of a slice from a DataFrame.\n",
      "Try using .loc[row_indexer,col_indexer] = value instead\n",
      "\n",
      "See the caveats in the documentation: https://pandas.pydata.org/pandas-docs/stable/user_guide/indexing.html#returning-a-view-versus-a-copy\n",
      "  geolocation['geolocation_id'] = np.nan           #------> Primary Key\n",
      "/var/folders/zh/sct9634x6kvcb6_5gkff84nh0000gn/T/ipykernel_2777/3429875246.py:5: SettingWithCopyWarning: \n",
      "A value is trying to be set on a copy of a slice from a DataFrame.\n",
      "Try using .loc[row_indexer,col_indexer] = value instead\n",
      "\n",
      "See the caveats in the documentation: https://pandas.pydata.org/pandas-docs/stable/user_guide/indexing.html#returning-a-view-versus-a-copy\n",
      "  geolocation['geolocation_id'] = pd.Series(range(1, len(geolocation) + 1)).apply(lambda x: 'geo-' + str(x).zfill(5))\n"
     ]
    }
   ],
   "source": [
    "geolocation = superstore_df[['country', 'city','state','postal_code','region']]\n",
    "geolocation['geolocation_id'] = np.nan           #------> Primary Key\n",
    "\n",
    "# Generate the geolocation IDs\n",
    "geolocation['geolocation_id'] = pd.Series(range(1, len(geolocation) + 1)).apply(lambda x: 'geo-' + str(x).zfill(5))\n",
    "\n",
    "# Print the updated DataFrame\n",
    "print(geolocation)"
   ]
  },
  {
   "attachments": {},
   "cell_type": "markdown",
   "metadata": {},
   "source": [
    "### Shipment Table"
   ]
  },
  {
   "cell_type": "code",
   "execution_count": 380,
   "metadata": {},
   "outputs": [
    {
     "name": "stdout",
     "output_type": "stream",
     "text": [
      "       ship_date       ship_mode     ship_id geolocation_number\n",
      "0     11/11/2016    Second Class  ship-00001          geo-00001\n",
      "1     11/11/2016    Second Class  ship-00002          geo-00002\n",
      "2      6/16/2016    Second Class  ship-00003          geo-00003\n",
      "3     10/18/2015  Standard Class  ship-00004          geo-00004\n",
      "4     10/18/2015  Standard Class  ship-00005          geo-00005\n",
      "...          ...             ...         ...                ...\n",
      "9989   1/23/2014    Second Class  ship-09990          geo-09990\n",
      "9990    3/3/2017  Standard Class  ship-09991          geo-09991\n",
      "9991    3/3/2017  Standard Class  ship-09992          geo-09992\n",
      "9992    3/3/2017  Standard Class  ship-09993          geo-09993\n",
      "9993    5/9/2017    Second Class  ship-09994          geo-09994\n",
      "\n",
      "[9994 rows x 4 columns]\n"
     ]
    },
    {
     "name": "stderr",
     "output_type": "stream",
     "text": [
      "/var/folders/zh/sct9634x6kvcb6_5gkff84nh0000gn/T/ipykernel_2777/692029782.py:3: SettingWithCopyWarning: \n",
      "A value is trying to be set on a copy of a slice from a DataFrame.\n",
      "Try using .loc[row_indexer,col_indexer] = value instead\n",
      "\n",
      "See the caveats in the documentation: https://pandas.pydata.org/pandas-docs/stable/user_guide/indexing.html#returning-a-view-versus-a-copy\n",
      "  shipment['ship_id'] = np.nan                                   #------> Primary Key\n",
      "/var/folders/zh/sct9634x6kvcb6_5gkff84nh0000gn/T/ipykernel_2777/692029782.py:4: SettingWithCopyWarning: \n",
      "A value is trying to be set on a copy of a slice from a DataFrame.\n",
      "Try using .loc[row_indexer,col_indexer] = value instead\n",
      "\n",
      "See the caveats in the documentation: https://pandas.pydata.org/pandas-docs/stable/user_guide/indexing.html#returning-a-view-versus-a-copy\n",
      "  shipment['geolocation_number'] = np.nan                           #------> Foreign key\n",
      "/var/folders/zh/sct9634x6kvcb6_5gkff84nh0000gn/T/ipykernel_2777/692029782.py:7: SettingWithCopyWarning: \n",
      "A value is trying to be set on a copy of a slice from a DataFrame.\n",
      "Try using .loc[row_indexer,col_indexer] = value instead\n",
      "\n",
      "See the caveats in the documentation: https://pandas.pydata.org/pandas-docs/stable/user_guide/indexing.html#returning-a-view-versus-a-copy\n",
      "  shipment['ship_id'] = pd.Series(range(1, len(shipment) + 1)).apply(lambda x: 'ship-' + str(x).zfill(5))\n",
      "/var/folders/zh/sct9634x6kvcb6_5gkff84nh0000gn/T/ipykernel_2777/692029782.py:10: SettingWithCopyWarning: \n",
      "A value is trying to be set on a copy of a slice from a DataFrame\n",
      "\n",
      "See the caveats in the documentation: https://pandas.pydata.org/pandas-docs/stable/user_guide/indexing.html#returning-a-view-versus-a-copy\n",
      "  shipment['geolocation_number'].fillna(geolocation['geolocation_id'], inplace=True)\n"
     ]
    }
   ],
   "source": [
    "# Create a df called shipment and its own primary key column (called 'shipment_id')\n",
    "shipment = superstore_df[['ship_date', 'ship_mode']]      \n",
    "shipment['ship_id'] = np.nan                                   #------> Primary Key\n",
    "shipment['geolocation_number'] = np.nan                           #------> Foreign key\n",
    "\n",
    "# Generate the ship IDs\n",
    "shipment['ship_id'] = pd.Series(range(1, len(shipment) + 1)).apply(lambda x: 'ship-' + str(x).zfill(5))\n",
    "\n",
    "# Fill the null values in 'shipment['geolocation_number']' with the values from 'geolocation['geolocation_id']'\n",
    "shipment['geolocation_number'].fillna(geolocation['geolocation_id'], inplace=True)\n",
    "\n",
    "# Print the updated DataFrame\n",
    "print(shipment)"
   ]
  },
  {
   "attachments": {},
   "cell_type": "markdown",
   "metadata": {},
   "source": [
    "### Order Table"
   ]
  },
  {
   "cell_type": "code",
   "execution_count": 381,
   "metadata": {},
   "outputs": [
    {
     "name": "stdout",
     "output_type": "stream",
     "text": [
      "            order_id  order_date customer_number   product_number ship_number  \\\n",
      "0     CA-2016-152156   11/8/2016        CG-12520  FUR-BO-10001798  ship-00001   \n",
      "1     CA-2016-152156   11/8/2016        CG-12520  FUR-CH-10000454  ship-00002   \n",
      "2     CA-2016-138688   6/12/2016        DV-13045  OFF-LA-10000240  ship-00003   \n",
      "3     US-2015-108966  10/11/2015        SO-20335  FUR-TA-10000577  ship-00004   \n",
      "4     US-2015-108966  10/11/2015        SO-20335  OFF-ST-10000760  ship-00005   \n",
      "...              ...         ...             ...              ...         ...   \n",
      "9989  CA-2014-110422   1/21/2014        TB-21400  FUR-FU-10001889  ship-09990   \n",
      "9990  CA-2017-121258   2/26/2017        DB-13060  FUR-FU-10000747  ship-09991   \n",
      "9991  CA-2017-121258   2/26/2017        DB-13060  TEC-PH-10003645  ship-09992   \n",
      "9992  CA-2017-121258   2/26/2017        DB-13060  OFF-PA-10004041  ship-09993   \n",
      "9993  CA-2017-119914    5/4/2017        CC-12220  OFF-AP-10002684  ship-09994   \n",
      "\n",
      "     transaction_number  \n",
      "0              Tr-00001  \n",
      "1              Tr-00002  \n",
      "2              Tr-00003  \n",
      "3              Tr-00004  \n",
      "4              Tr-00005  \n",
      "...                 ...  \n",
      "9989           Tr-09990  \n",
      "9990           Tr-09991  \n",
      "9991           Tr-09992  \n",
      "9992           Tr-09993  \n",
      "9993           Tr-09994  \n",
      "\n",
      "[9994 rows x 6 columns]\n"
     ]
    },
    {
     "name": "stderr",
     "output_type": "stream",
     "text": [
      "/var/folders/zh/sct9634x6kvcb6_5gkff84nh0000gn/T/ipykernel_2777/751927266.py:3: SettingWithCopyWarning: \n",
      "A value is trying to be set on a copy of a slice from a DataFrame.\n",
      "Try using .loc[row_indexer,col_indexer] = value instead\n",
      "\n",
      "See the caveats in the documentation: https://pandas.pydata.org/pandas-docs/stable/user_guide/indexing.html#returning-a-view-versus-a-copy\n",
      "  order['customer_number'] = np.nan       #------> Foreign key\n",
      "/var/folders/zh/sct9634x6kvcb6_5gkff84nh0000gn/T/ipykernel_2777/751927266.py:4: SettingWithCopyWarning: \n",
      "A value is trying to be set on a copy of a slice from a DataFrame.\n",
      "Try using .loc[row_indexer,col_indexer] = value instead\n",
      "\n",
      "See the caveats in the documentation: https://pandas.pydata.org/pandas-docs/stable/user_guide/indexing.html#returning-a-view-versus-a-copy\n",
      "  order['product_number'] = np.nan        #------> Foreign key\n",
      "/var/folders/zh/sct9634x6kvcb6_5gkff84nh0000gn/T/ipykernel_2777/751927266.py:5: SettingWithCopyWarning: \n",
      "A value is trying to be set on a copy of a slice from a DataFrame.\n",
      "Try using .loc[row_indexer,col_indexer] = value instead\n",
      "\n",
      "See the caveats in the documentation: https://pandas.pydata.org/pandas-docs/stable/user_guide/indexing.html#returning-a-view-versus-a-copy\n",
      "  order['ship_number'] = np.nan           #------> Foreign key\n",
      "/var/folders/zh/sct9634x6kvcb6_5gkff84nh0000gn/T/ipykernel_2777/751927266.py:6: SettingWithCopyWarning: \n",
      "A value is trying to be set on a copy of a slice from a DataFrame.\n",
      "Try using .loc[row_indexer,col_indexer] = value instead\n",
      "\n",
      "See the caveats in the documentation: https://pandas.pydata.org/pandas-docs/stable/user_guide/indexing.html#returning-a-view-versus-a-copy\n",
      "  order['transaction_number'] = np.nan    #------> Foreign key\n",
      "/var/folders/zh/sct9634x6kvcb6_5gkff84nh0000gn/T/ipykernel_2777/751927266.py:9: SettingWithCopyWarning: \n",
      "A value is trying to be set on a copy of a slice from a DataFrame\n",
      "\n",
      "See the caveats in the documentation: https://pandas.pydata.org/pandas-docs/stable/user_guide/indexing.html#returning-a-view-versus-a-copy\n",
      "  order['customer_number'].fillna(customer['customer_id'], inplace=True)\n",
      "/var/folders/zh/sct9634x6kvcb6_5gkff84nh0000gn/T/ipykernel_2777/751927266.py:12: SettingWithCopyWarning: \n",
      "A value is trying to be set on a copy of a slice from a DataFrame\n",
      "\n",
      "See the caveats in the documentation: https://pandas.pydata.org/pandas-docs/stable/user_guide/indexing.html#returning-a-view-versus-a-copy\n",
      "  order['product_number'].fillna(product['product_id'], inplace=True)\n",
      "/var/folders/zh/sct9634x6kvcb6_5gkff84nh0000gn/T/ipykernel_2777/751927266.py:15: SettingWithCopyWarning: \n",
      "A value is trying to be set on a copy of a slice from a DataFrame\n",
      "\n",
      "See the caveats in the documentation: https://pandas.pydata.org/pandas-docs/stable/user_guide/indexing.html#returning-a-view-versus-a-copy\n",
      "  order['ship_number'].fillna(shipment['ship_id'], inplace=True)\n",
      "/var/folders/zh/sct9634x6kvcb6_5gkff84nh0000gn/T/ipykernel_2777/751927266.py:18: SettingWithCopyWarning: \n",
      "A value is trying to be set on a copy of a slice from a DataFrame\n",
      "\n",
      "See the caveats in the documentation: https://pandas.pydata.org/pandas-docs/stable/user_guide/indexing.html#returning-a-view-versus-a-copy\n",
      "  order['transaction_number'].fillna(sale['transaction_id'], inplace=True)\n"
     ]
    }
   ],
   "source": [
    "# Create a df called order and its own primary key column (called 'order_id'), and 3 foreign keys (called:'shipment_code', 'customer_id', 'product')\n",
    "order = superstore_df[['order_id', 'order_date']]       #------> order_id = Primary Key\n",
    "order['customer_number'] = np.nan       #------> Foreign key\n",
    "order['product_number'] = np.nan        #------> Foreign key\n",
    "order['ship_number'] = np.nan           #------> Foreign key\n",
    "order['transaction_number'] = np.nan    #------> Foreign key\n",
    "\n",
    "# Fill the null values in 'order['customer_number']' with the values from 'customer['customer_id']'\n",
    "order['customer_number'].fillna(customer['customer_id'], inplace=True)\n",
    "\n",
    "# Fill the null values in 'order['product_number']' with the values from 'product['product_id'\n",
    "order['product_number'].fillna(product['product_id'], inplace=True)\n",
    "\n",
    "# Fill the null values in 'order['ship_number']]' with the values from 'shipment['ship_id']'\n",
    "order['ship_number'].fillna(shipment['ship_id'], inplace=True)\n",
    "\n",
    "# Fill the null values in 'order['transaction_number']' with the values from 'sale['transaction_id']'\n",
    "order['transaction_number'].fillna(sale['transaction_id'], inplace=True)\n",
    "\n",
    "# Print the updated DataFrame\n",
    "print(order)\n"
   ]
  },
  {
   "attachments": {},
   "cell_type": "markdown",
   "metadata": {},
   "source": [
    "## Export the cleaned data"
   ]
  },
  {
   "cell_type": "code",
   "execution_count": 382,
   "metadata": {},
   "outputs": [],
   "source": [
    "# Create a function to export the cleaned data to perform EDA in the future\n",
    "# Specify the path to the dataset folder\n",
    "folder_path = \"../datasets/\"\n",
    "\n",
    "dataframes = ['product', 'customer', 'order', 'shipment', 'geolocation',\n",
    "              'sale']\n",
    "\n",
    "file_names = ['product.csv', 'customer.csv', 'order.csv',\n",
    "              'shipment.csv', 'geolocation.csv',\n",
    "              'sale.csv']\n",
    "\n",
    "# for df_name, file_name in zip(dataframes, file_names):  \n",
    "#     # Get the DataFrame object by its name           --------> Commented out to avoid re writing of the files\n",
    "#     df = globals()[df_name]\n",
    "#     # Get the full path of the output file\n",
    "#     output_file_path = os.path.join(folder_path, file_name)\n",
    "#     # Save the DataFrame to CSV\n",
    "#     df.to_csv(output_file_path, index=False)\n"
   ]
  }
 ],
 "metadata": {
  "kernelspec": {
   "display_name": "base",
   "language": "python",
   "name": "python3"
  },
  "language_info": {
   "codemirror_mode": {
    "name": "ipython",
    "version": 3
   },
   "file_extension": ".py",
   "mimetype": "text/x-python",
   "name": "python",
   "nbconvert_exporter": "python",
   "pygments_lexer": "ipython3",
   "version": "3.9.7"
  },
  "orig_nbformat": 4
 },
 "nbformat": 4,
 "nbformat_minor": 2
}
