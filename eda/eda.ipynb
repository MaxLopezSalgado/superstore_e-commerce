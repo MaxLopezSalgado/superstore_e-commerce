{
 "cells": [
  {
   "attachments": {},
   "cell_type": "markdown",
   "metadata": {},
   "source": [
    "- Author: Maximiliano Lopez Salgado\n",
    "- First Commit: 2023-06-20                      #folowing ISO  8601 Format\n",
    "- Last Commit: 2023-06-20                       #folowing ISO  8601 Format\n",
    "- Description: This notebook is used to perform EDA on the Superstore dataset"
   ]
  },
  {
   "cell_type": "code",
   "execution_count": 29,
   "metadata": {},
   "outputs": [],
   "source": [
    "# Import libraries\n",
    "import pandas as pd\n",
    "import numpy as np\n",
    "import matplotlib.pyplot as plt\n",
    "import seaborn as sns\n",
    "from scipy import stats\n",
    "import folium\n",
    "from folium import plugins\n",
    "import sqlite3"
   ]
  },
  {
   "attachments": {},
   "cell_type": "markdown",
   "metadata": {},
   "source": [
    "# Exploratory Data Analysis (EDA)"
   ]
  },
  {
   "attachments": {},
   "cell_type": "markdown",
   "metadata": {},
   "source": [
    "## 1. Understanding the data"
   ]
  },
  {
   "attachments": {},
   "cell_type": "markdown",
   "metadata": {},
   "source": [
    "### 1.1 Gathering data"
   ]
  },
  {
   "cell_type": "code",
   "execution_count": 30,
   "metadata": {},
   "outputs": [],
   "source": [
    "# Import csv cleaned files \n",
    "order = pd.read_csv('../datasets/order.csv', encoding='latin1')\n",
    "customer = pd.read_csv('../datasets/customer.csv', encoding='latin1')\n",
    "shipment = pd.read_csv('../datasets/shipment.csv', encoding='latin1')\n",
    "product = pd.read_csv('../datasets/product.csv', encoding='latin1')\n",
    "stock = pd.read_csv('../datasets/stock.csv', encoding='latin1')"
   ]
  },
  {
   "attachments": {},
   "cell_type": "markdown",
   "metadata": {},
   "source": [
    "### 1.2 Assesing data"
   ]
  },
  {
   "cell_type": "code",
   "execution_count": 31,
   "metadata": {},
   "outputs": [
    {
     "data": {
      "text/plain": [
       "<bound method DataFrame.info of             order_id  order_date  shipment_code customer_id          product\n",
       "0     CA-2016-152156   11/8/2016              1    CG-12520  FUR-BO-10001798\n",
       "1     CA-2016-152156   11/8/2016              2    CG-12520  FUR-CH-10000454\n",
       "2     CA-2016-138688   6/12/2016              3    DV-13045  OFF-LA-10000240\n",
       "3     US-2015-108966  10/11/2015              4    SO-20335  FUR-TA-10000577\n",
       "4     US-2015-108966  10/11/2015              5    SO-20335  OFF-ST-10000760\n",
       "...              ...         ...            ...         ...              ...\n",
       "9989  CA-2014-110422   1/21/2014           9990    TB-21400  FUR-FU-10001889\n",
       "9990  CA-2017-121258   2/26/2017           9991    DB-13060  FUR-FU-10000747\n",
       "9991  CA-2017-121258   2/26/2017           9992    DB-13060  TEC-PH-10003645\n",
       "9992  CA-2017-121258   2/26/2017           9993    DB-13060  OFF-PA-10004041\n",
       "9993  CA-2017-119914    5/4/2017           9994    CC-12220  OFF-AP-10002684\n",
       "\n",
       "[9994 rows x 5 columns]>"
      ]
     },
     "metadata": {},
     "output_type": "display_data"
    },
    {
     "data": {
      "text/plain": [
       "<bound method DataFrame.info of      customer_id     customer_name    segment\n",
       "0       CG-12520       Claire Gute   Consumer\n",
       "1       CG-12520       Claire Gute   Consumer\n",
       "2       DV-13045   Darrin Van Huff  Corporate\n",
       "3       SO-20335    Sean O'Donnell   Consumer\n",
       "4       SO-20335    Sean O'Donnell   Consumer\n",
       "...          ...               ...        ...\n",
       "9989    TB-21400  Tom Boeckenhauer   Consumer\n",
       "9990    DB-13060       Dave Brooks   Consumer\n",
       "9991    DB-13060       Dave Brooks   Consumer\n",
       "9992    DB-13060       Dave Brooks   Consumer\n",
       "9993    CC-12220      Chris Cortes   Consumer\n",
       "\n",
       "[9994 rows x 3 columns]>"
      ]
     },
     "metadata": {},
     "output_type": "display_data"
    },
    {
     "data": {
      "text/plain": [
       "<bound method DataFrame.info of       ship_id   ship_date       ship_mode        country             city  \\\n",
       "0           1  11/11/2016    Second Class  United States        Henderson   \n",
       "1           2  11/11/2016    Second Class  United States        Henderson   \n",
       "2           3   6/16/2016    Second Class  United States      Los Angeles   \n",
       "3           4  10/18/2015  Standard Class  United States  Fort Lauderdale   \n",
       "4           5  10/18/2015  Standard Class  United States  Fort Lauderdale   \n",
       "...       ...         ...             ...            ...              ...   \n",
       "9989     9990   1/23/2014    Second Class  United States            Miami   \n",
       "9990     9991    3/3/2017  Standard Class  United States       Costa Mesa   \n",
       "9991     9992    3/3/2017  Standard Class  United States       Costa Mesa   \n",
       "9992     9993    3/3/2017  Standard Class  United States       Costa Mesa   \n",
       "9993     9994    5/9/2017    Second Class  United States      Westminster   \n",
       "\n",
       "           state  postal_code region  \n",
       "0       Kentucky        42420  South  \n",
       "1       Kentucky        42420  South  \n",
       "2     California        90036   West  \n",
       "3        Florida        33311  South  \n",
       "4        Florida        33311  South  \n",
       "...          ...          ...    ...  \n",
       "9989     Florida        33180  South  \n",
       "9990  California        92627   West  \n",
       "9991  California        92627   West  \n",
       "9992  California        92627   West  \n",
       "9993  California        92683   West  \n",
       "\n",
       "[9994 rows x 8 columns]>"
      ]
     },
     "metadata": {},
     "output_type": "display_data"
    },
    {
     "data": {
      "text/plain": [
       "<bound method DataFrame.info of            product_id         category sub-category  \\\n",
       "0     FUR-BO-10001798        Furniture    Bookcases   \n",
       "1     FUR-CH-10000454        Furniture       Chairs   \n",
       "2     OFF-LA-10000240  Office Supplies       Labels   \n",
       "3     FUR-TA-10000577        Furniture       Tables   \n",
       "4     OFF-ST-10000760  Office Supplies      Storage   \n",
       "...               ...              ...          ...   \n",
       "9989  FUR-FU-10001889        Furniture  Furnishings   \n",
       "9990  FUR-FU-10000747        Furniture  Furnishings   \n",
       "9991  TEC-PH-10003645       Technology       Phones   \n",
       "9992  OFF-PA-10004041  Office Supplies        Paper   \n",
       "9993  OFF-AP-10002684  Office Supplies   Appliances   \n",
       "\n",
       "                                           product_name     price  quantity  \\\n",
       "0                     Bush Somerset Collection Bookcase  261.9600         2   \n",
       "1     Hon Deluxe Fabric Upholstered Stacking Chairs,...  731.9400         3   \n",
       "2     Self-Adhesive Address Labels for Typewriters b...   14.6200         2   \n",
       "3         Bretford CR4500 Series Slim Rectangular Table  957.5775         5   \n",
       "4                        Eldon Fold 'N Roll Cart System   22.3680         2   \n",
       "...                                                 ...       ...       ...   \n",
       "9989                             Ultra Door Pull Handle   25.2480         3   \n",
       "9990  Tenex B1-RE Series Chair Mats for Low Pile Car...   91.9600         2   \n",
       "9991                              Aastra 57i VoIP phone  258.5760         2   \n",
       "9992  It's Hot Message Books with Stickers, 2 3/4\" x 5\"   29.6000         4   \n",
       "9993  Acco 7-Outlet Masterpiece Power Center, Wihtou...  243.1600         2   \n",
       "\n",
       "      discount    profit  \n",
       "0         0.00   41.9136  \n",
       "1         0.00  219.5820  \n",
       "2         0.00    6.8714  \n",
       "3         0.45 -383.0310  \n",
       "4         0.20    2.5164  \n",
       "...        ...       ...  \n",
       "9989      0.20    4.1028  \n",
       "9990      0.00   15.6332  \n",
       "9991      0.20   19.3932  \n",
       "9992      0.00   13.3200  \n",
       "9993      0.00   72.9480  \n",
       "\n",
       "[9994 rows x 8 columns]>"
      ]
     },
     "metadata": {},
     "output_type": "display_data"
    },
    {
     "data": {
      "text/plain": [
       "<bound method DataFrame.info of             order_id       product_id  stock_id\n",
       "0     CA-2016-152156  FUR-BO-10001798       NaN\n",
       "1     CA-2016-152156  FUR-CH-10000454       NaN\n",
       "2     CA-2016-138688  OFF-LA-10000240       NaN\n",
       "3     US-2015-108966  FUR-TA-10000577       NaN\n",
       "4     US-2015-108966  OFF-ST-10000760       NaN\n",
       "...              ...              ...       ...\n",
       "9989  CA-2014-110422  FUR-FU-10001889       NaN\n",
       "9990  CA-2017-121258  FUR-FU-10000747       NaN\n",
       "9991  CA-2017-121258  TEC-PH-10003645       NaN\n",
       "9992  CA-2017-121258  OFF-PA-10004041       NaN\n",
       "9993  CA-2017-119914  OFF-AP-10002684       NaN\n",
       "\n",
       "[9994 rows x 3 columns]>"
      ]
     },
     "metadata": {},
     "output_type": "display_data"
    }
   ],
   "source": [
    "# Take a look of the data´s shape\n",
    "display(order.info)\n",
    "display(customer.info)\n",
    "display(shipment.info)\n",
    "display(product.info)\n",
    "display(stock.info)"
   ]
  },
  {
   "cell_type": "code",
   "execution_count": 32,
   "metadata": {},
   "outputs": [
    {
     "name": "stdout",
     "output_type": "stream",
     "text": [
      "<class 'pandas.core.frame.DataFrame'>\n",
      "RangeIndex: 9994 entries, 0 to 9993\n",
      "Data columns (total 5 columns):\n",
      " #   Column         Non-Null Count  Dtype \n",
      "---  ------         --------------  ----- \n",
      " 0   order_id       9994 non-null   object\n",
      " 1   order_date     9994 non-null   object\n",
      " 2   shipment_code  9994 non-null   int64 \n",
      " 3   customer_id    9994 non-null   object\n",
      " 4   product        9994 non-null   object\n",
      "dtypes: int64(1), object(4)\n",
      "memory usage: 390.5+ KB\n"
     ]
    },
    {
     "data": {
      "text/plain": [
       "None"
      ]
     },
     "metadata": {},
     "output_type": "display_data"
    },
    {
     "name": "stdout",
     "output_type": "stream",
     "text": [
      "<class 'pandas.core.frame.DataFrame'>\n",
      "RangeIndex: 9994 entries, 0 to 9993\n",
      "Data columns (total 3 columns):\n",
      " #   Column         Non-Null Count  Dtype \n",
      "---  ------         --------------  ----- \n",
      " 0   customer_id    9994 non-null   object\n",
      " 1   customer_name  9994 non-null   object\n",
      " 2   segment        9994 non-null   object\n",
      "dtypes: object(3)\n",
      "memory usage: 234.4+ KB\n"
     ]
    },
    {
     "data": {
      "text/plain": [
       "None"
      ]
     },
     "metadata": {},
     "output_type": "display_data"
    },
    {
     "name": "stdout",
     "output_type": "stream",
     "text": [
      "<class 'pandas.core.frame.DataFrame'>\n",
      "RangeIndex: 9994 entries, 0 to 9993\n",
      "Data columns (total 8 columns):\n",
      " #   Column       Non-Null Count  Dtype \n",
      "---  ------       --------------  ----- \n",
      " 0   ship_id      9994 non-null   int64 \n",
      " 1   ship_date    9994 non-null   object\n",
      " 2   ship_mode    9994 non-null   object\n",
      " 3   country      9994 non-null   object\n",
      " 4   city         9994 non-null   object\n",
      " 5   state        9994 non-null   object\n",
      " 6   postal_code  9994 non-null   int64 \n",
      " 7   region       9994 non-null   object\n",
      "dtypes: int64(2), object(6)\n",
      "memory usage: 624.8+ KB\n"
     ]
    },
    {
     "data": {
      "text/plain": [
       "None"
      ]
     },
     "metadata": {},
     "output_type": "display_data"
    },
    {
     "name": "stdout",
     "output_type": "stream",
     "text": [
      "<class 'pandas.core.frame.DataFrame'>\n",
      "RangeIndex: 9994 entries, 0 to 9993\n",
      "Data columns (total 8 columns):\n",
      " #   Column        Non-Null Count  Dtype  \n",
      "---  ------        --------------  -----  \n",
      " 0   product_id    9994 non-null   object \n",
      " 1   category      9994 non-null   object \n",
      " 2   sub-category  9994 non-null   object \n",
      " 3   product_name  9994 non-null   object \n",
      " 4   price         9994 non-null   float64\n",
      " 5   quantity      9994 non-null   int64  \n",
      " 6   discount      9994 non-null   float64\n",
      " 7   profit        9994 non-null   float64\n",
      "dtypes: float64(3), int64(1), object(4)\n",
      "memory usage: 624.8+ KB\n"
     ]
    },
    {
     "data": {
      "text/plain": [
       "None"
      ]
     },
     "metadata": {},
     "output_type": "display_data"
    },
    {
     "name": "stdout",
     "output_type": "stream",
     "text": [
      "<class 'pandas.core.frame.DataFrame'>\n",
      "RangeIndex: 9994 entries, 0 to 9993\n",
      "Data columns (total 3 columns):\n",
      " #   Column      Non-Null Count  Dtype  \n",
      "---  ------      --------------  -----  \n",
      " 0   order_id    9994 non-null   object \n",
      " 1   product_id  9994 non-null   object \n",
      " 2   stock_id    0 non-null      float64\n",
      "dtypes: float64(1), object(2)\n",
      "memory usage: 234.4+ KB\n"
     ]
    },
    {
     "data": {
      "text/plain": [
       "None"
      ]
     },
     "metadata": {},
     "output_type": "display_data"
    }
   ],
   "source": [
    "# Take a look of the data´s info\n",
    "display(order.info())\n",
    "display(customer.info())\n",
    "display(shipment.info())\n",
    "display(product.info())\n",
    "display(stock.info())"
   ]
  },
  {
   "cell_type": "code",
   "execution_count": 33,
   "metadata": {},
   "outputs": [
    {
     "data": {
      "text/html": [
       "<div>\n",
       "<style scoped>\n",
       "    .dataframe tbody tr th:only-of-type {\n",
       "        vertical-align: middle;\n",
       "    }\n",
       "\n",
       "    .dataframe tbody tr th {\n",
       "        vertical-align: top;\n",
       "    }\n",
       "\n",
       "    .dataframe thead th {\n",
       "        text-align: right;\n",
       "    }\n",
       "</style>\n",
       "<table border=\"1\" class=\"dataframe\">\n",
       "  <thead>\n",
       "    <tr style=\"text-align: right;\">\n",
       "      <th></th>\n",
       "      <th>shipment_code</th>\n",
       "    </tr>\n",
       "  </thead>\n",
       "  <tbody>\n",
       "    <tr>\n",
       "      <th>count</th>\n",
       "      <td>9994.000000</td>\n",
       "    </tr>\n",
       "    <tr>\n",
       "      <th>mean</th>\n",
       "      <td>4997.500000</td>\n",
       "    </tr>\n",
       "    <tr>\n",
       "      <th>std</th>\n",
       "      <td>2885.163629</td>\n",
       "    </tr>\n",
       "    <tr>\n",
       "      <th>min</th>\n",
       "      <td>1.000000</td>\n",
       "    </tr>\n",
       "    <tr>\n",
       "      <th>25%</th>\n",
       "      <td>2499.250000</td>\n",
       "    </tr>\n",
       "    <tr>\n",
       "      <th>50%</th>\n",
       "      <td>4997.500000</td>\n",
       "    </tr>\n",
       "    <tr>\n",
       "      <th>75%</th>\n",
       "      <td>7495.750000</td>\n",
       "    </tr>\n",
       "    <tr>\n",
       "      <th>max</th>\n",
       "      <td>9994.000000</td>\n",
       "    </tr>\n",
       "  </tbody>\n",
       "</table>\n",
       "</div>"
      ],
      "text/plain": [
       "       shipment_code\n",
       "count    9994.000000\n",
       "mean     4997.500000\n",
       "std      2885.163629\n",
       "min         1.000000\n",
       "25%      2499.250000\n",
       "50%      4997.500000\n",
       "75%      7495.750000\n",
       "max      9994.000000"
      ]
     },
     "metadata": {},
     "output_type": "display_data"
    },
    {
     "data": {
      "text/html": [
       "<div>\n",
       "<style scoped>\n",
       "    .dataframe tbody tr th:only-of-type {\n",
       "        vertical-align: middle;\n",
       "    }\n",
       "\n",
       "    .dataframe tbody tr th {\n",
       "        vertical-align: top;\n",
       "    }\n",
       "\n",
       "    .dataframe thead th {\n",
       "        text-align: right;\n",
       "    }\n",
       "</style>\n",
       "<table border=\"1\" class=\"dataframe\">\n",
       "  <thead>\n",
       "    <tr style=\"text-align: right;\">\n",
       "      <th></th>\n",
       "      <th>customer_id</th>\n",
       "      <th>customer_name</th>\n",
       "      <th>segment</th>\n",
       "    </tr>\n",
       "  </thead>\n",
       "  <tbody>\n",
       "    <tr>\n",
       "      <th>count</th>\n",
       "      <td>9994</td>\n",
       "      <td>9994</td>\n",
       "      <td>9994</td>\n",
       "    </tr>\n",
       "    <tr>\n",
       "      <th>unique</th>\n",
       "      <td>793</td>\n",
       "      <td>793</td>\n",
       "      <td>3</td>\n",
       "    </tr>\n",
       "    <tr>\n",
       "      <th>top</th>\n",
       "      <td>WB-21850</td>\n",
       "      <td>William Brown</td>\n",
       "      <td>Consumer</td>\n",
       "    </tr>\n",
       "    <tr>\n",
       "      <th>freq</th>\n",
       "      <td>37</td>\n",
       "      <td>37</td>\n",
       "      <td>5191</td>\n",
       "    </tr>\n",
       "  </tbody>\n",
       "</table>\n",
       "</div>"
      ],
      "text/plain": [
       "       customer_id  customer_name   segment\n",
       "count         9994           9994      9994\n",
       "unique         793            793         3\n",
       "top       WB-21850  William Brown  Consumer\n",
       "freq            37             37      5191"
      ]
     },
     "metadata": {},
     "output_type": "display_data"
    },
    {
     "data": {
      "text/html": [
       "<div>\n",
       "<style scoped>\n",
       "    .dataframe tbody tr th:only-of-type {\n",
       "        vertical-align: middle;\n",
       "    }\n",
       "\n",
       "    .dataframe tbody tr th {\n",
       "        vertical-align: top;\n",
       "    }\n",
       "\n",
       "    .dataframe thead th {\n",
       "        text-align: right;\n",
       "    }\n",
       "</style>\n",
       "<table border=\"1\" class=\"dataframe\">\n",
       "  <thead>\n",
       "    <tr style=\"text-align: right;\">\n",
       "      <th></th>\n",
       "      <th>ship_id</th>\n",
       "      <th>postal_code</th>\n",
       "    </tr>\n",
       "  </thead>\n",
       "  <tbody>\n",
       "    <tr>\n",
       "      <th>count</th>\n",
       "      <td>9994.000000</td>\n",
       "      <td>9994.000000</td>\n",
       "    </tr>\n",
       "    <tr>\n",
       "      <th>mean</th>\n",
       "      <td>4997.500000</td>\n",
       "      <td>55190.379428</td>\n",
       "    </tr>\n",
       "    <tr>\n",
       "      <th>std</th>\n",
       "      <td>2885.163629</td>\n",
       "      <td>32063.693350</td>\n",
       "    </tr>\n",
       "    <tr>\n",
       "      <th>min</th>\n",
       "      <td>1.000000</td>\n",
       "      <td>1040.000000</td>\n",
       "    </tr>\n",
       "    <tr>\n",
       "      <th>25%</th>\n",
       "      <td>2499.250000</td>\n",
       "      <td>23223.000000</td>\n",
       "    </tr>\n",
       "    <tr>\n",
       "      <th>50%</th>\n",
       "      <td>4997.500000</td>\n",
       "      <td>56430.500000</td>\n",
       "    </tr>\n",
       "    <tr>\n",
       "      <th>75%</th>\n",
       "      <td>7495.750000</td>\n",
       "      <td>90008.000000</td>\n",
       "    </tr>\n",
       "    <tr>\n",
       "      <th>max</th>\n",
       "      <td>9994.000000</td>\n",
       "      <td>99301.000000</td>\n",
       "    </tr>\n",
       "  </tbody>\n",
       "</table>\n",
       "</div>"
      ],
      "text/plain": [
       "           ship_id   postal_code\n",
       "count  9994.000000   9994.000000\n",
       "mean   4997.500000  55190.379428\n",
       "std    2885.163629  32063.693350\n",
       "min       1.000000   1040.000000\n",
       "25%    2499.250000  23223.000000\n",
       "50%    4997.500000  56430.500000\n",
       "75%    7495.750000  90008.000000\n",
       "max    9994.000000  99301.000000"
      ]
     },
     "metadata": {},
     "output_type": "display_data"
    },
    {
     "data": {
      "text/html": [
       "<div>\n",
       "<style scoped>\n",
       "    .dataframe tbody tr th:only-of-type {\n",
       "        vertical-align: middle;\n",
       "    }\n",
       "\n",
       "    .dataframe tbody tr th {\n",
       "        vertical-align: top;\n",
       "    }\n",
       "\n",
       "    .dataframe thead th {\n",
       "        text-align: right;\n",
       "    }\n",
       "</style>\n",
       "<table border=\"1\" class=\"dataframe\">\n",
       "  <thead>\n",
       "    <tr style=\"text-align: right;\">\n",
       "      <th></th>\n",
       "      <th>price</th>\n",
       "      <th>quantity</th>\n",
       "      <th>discount</th>\n",
       "      <th>profit</th>\n",
       "    </tr>\n",
       "  </thead>\n",
       "  <tbody>\n",
       "    <tr>\n",
       "      <th>count</th>\n",
       "      <td>9994.000000</td>\n",
       "      <td>9994.000000</td>\n",
       "      <td>9994.000000</td>\n",
       "      <td>9994.000000</td>\n",
       "    </tr>\n",
       "    <tr>\n",
       "      <th>mean</th>\n",
       "      <td>229.858001</td>\n",
       "      <td>3.789574</td>\n",
       "      <td>0.156203</td>\n",
       "      <td>28.656896</td>\n",
       "    </tr>\n",
       "    <tr>\n",
       "      <th>std</th>\n",
       "      <td>623.245101</td>\n",
       "      <td>2.225110</td>\n",
       "      <td>0.206452</td>\n",
       "      <td>234.260108</td>\n",
       "    </tr>\n",
       "    <tr>\n",
       "      <th>min</th>\n",
       "      <td>0.444000</td>\n",
       "      <td>1.000000</td>\n",
       "      <td>0.000000</td>\n",
       "      <td>-6599.978000</td>\n",
       "    </tr>\n",
       "    <tr>\n",
       "      <th>25%</th>\n",
       "      <td>17.280000</td>\n",
       "      <td>2.000000</td>\n",
       "      <td>0.000000</td>\n",
       "      <td>1.728750</td>\n",
       "    </tr>\n",
       "    <tr>\n",
       "      <th>50%</th>\n",
       "      <td>54.490000</td>\n",
       "      <td>3.000000</td>\n",
       "      <td>0.200000</td>\n",
       "      <td>8.666500</td>\n",
       "    </tr>\n",
       "    <tr>\n",
       "      <th>75%</th>\n",
       "      <td>209.940000</td>\n",
       "      <td>5.000000</td>\n",
       "      <td>0.200000</td>\n",
       "      <td>29.364000</td>\n",
       "    </tr>\n",
       "    <tr>\n",
       "      <th>max</th>\n",
       "      <td>22638.480000</td>\n",
       "      <td>14.000000</td>\n",
       "      <td>0.800000</td>\n",
       "      <td>8399.976000</td>\n",
       "    </tr>\n",
       "  </tbody>\n",
       "</table>\n",
       "</div>"
      ],
      "text/plain": [
       "              price     quantity     discount       profit\n",
       "count   9994.000000  9994.000000  9994.000000  9994.000000\n",
       "mean     229.858001     3.789574     0.156203    28.656896\n",
       "std      623.245101     2.225110     0.206452   234.260108\n",
       "min        0.444000     1.000000     0.000000 -6599.978000\n",
       "25%       17.280000     2.000000     0.000000     1.728750\n",
       "50%       54.490000     3.000000     0.200000     8.666500\n",
       "75%      209.940000     5.000000     0.200000    29.364000\n",
       "max    22638.480000    14.000000     0.800000  8399.976000"
      ]
     },
     "metadata": {},
     "output_type": "display_data"
    },
    {
     "data": {
      "text/html": [
       "<div>\n",
       "<style scoped>\n",
       "    .dataframe tbody tr th:only-of-type {\n",
       "        vertical-align: middle;\n",
       "    }\n",
       "\n",
       "    .dataframe tbody tr th {\n",
       "        vertical-align: top;\n",
       "    }\n",
       "\n",
       "    .dataframe thead th {\n",
       "        text-align: right;\n",
       "    }\n",
       "</style>\n",
       "<table border=\"1\" class=\"dataframe\">\n",
       "  <thead>\n",
       "    <tr style=\"text-align: right;\">\n",
       "      <th></th>\n",
       "      <th>stock_id</th>\n",
       "    </tr>\n",
       "  </thead>\n",
       "  <tbody>\n",
       "    <tr>\n",
       "      <th>count</th>\n",
       "      <td>0.0</td>\n",
       "    </tr>\n",
       "    <tr>\n",
       "      <th>mean</th>\n",
       "      <td>NaN</td>\n",
       "    </tr>\n",
       "    <tr>\n",
       "      <th>std</th>\n",
       "      <td>NaN</td>\n",
       "    </tr>\n",
       "    <tr>\n",
       "      <th>min</th>\n",
       "      <td>NaN</td>\n",
       "    </tr>\n",
       "    <tr>\n",
       "      <th>25%</th>\n",
       "      <td>NaN</td>\n",
       "    </tr>\n",
       "    <tr>\n",
       "      <th>50%</th>\n",
       "      <td>NaN</td>\n",
       "    </tr>\n",
       "    <tr>\n",
       "      <th>75%</th>\n",
       "      <td>NaN</td>\n",
       "    </tr>\n",
       "    <tr>\n",
       "      <th>max</th>\n",
       "      <td>NaN</td>\n",
       "    </tr>\n",
       "  </tbody>\n",
       "</table>\n",
       "</div>"
      ],
      "text/plain": [
       "       stock_id\n",
       "count       0.0\n",
       "mean        NaN\n",
       "std         NaN\n",
       "min         NaN\n",
       "25%         NaN\n",
       "50%         NaN\n",
       "75%         NaN\n",
       "max         NaN"
      ]
     },
     "metadata": {},
     "output_type": "display_data"
    }
   ],
   "source": [
    "# Use describe method to get descriptive statistics\n",
    "display(order.describe())\n",
    "display(customer.describe())\n",
    "display(shipment.describe())\n",
    "display(product.describe())\n",
    "display(stock.describe())"
   ]
  },
  {
   "attachments": {},
   "cell_type": "markdown",
   "metadata": {},
   "source": [
    "## 2. Extracting and Plotting the data"
   ]
  },
  {
   "attachments": {},
   "cell_type": "markdown",
   "metadata": {},
   "source": [
    "From the dataframes we have, here are some potential information we can extract:\n",
    "\n",
    "**DataFrame 1: df**\n",
    "- Count of unique values.\n",
    "- Distribution of values.\n",
    "- Count of values.\n",
    "- Descriptive statistics of column´s values.\n",
    "- Time-based analysis of column´s values.\n",
    "- Geographic distribution of values on a map\n",
    "- Visualization of regions with a heatmap.\n",
    "\n",
    "**DataFrame 2: df2**\n",
    "- Count of unique values.\n",
    "- Distribution of values.\n",
    "- Count of values.\n",
    "- Descriptive statistics of column´s values.\n",
    "- Time-based analysis of column´s values.\n",
    "- Geographic distribution of values on a map\n",
    "- Visualization of regions with a heatmap.\n",
    "\n",
    "**DataFrame 3: df3**\n",
    "- Count of unique values.\n",
    "- Distribution of values.\n",
    "- Count of values.\n",
    "- Descriptive statistics of column´s values.\n",
    "- Time-based analysis of column´s values.\n",
    "- Geographic distribution of values on a map\n",
    "- Visualization of regions with a heatmap.\n",
    "\n",
    "**DataFrame 4: df4**\n",
    "- Count of unique values.\n",
    "- Distribution of values.\n",
    "- Count of values.\n",
    "- Descriptive statistics of column´s values.\n",
    "- Time-based analysis of column´s values.\n",
    "- Geographic distribution of values on a map\n",
    "- Visualization of regions with a heatmap."
   ]
  },
  {
   "attachments": {},
   "cell_type": "markdown",
   "metadata": {},
   "source": [
    "## DataFrame 1: Customer Data"
   ]
  },
  {
   "attachments": {},
   "cell_type": "markdown",
   "metadata": {},
   "source": [
    "### Number of unique values"
   ]
  },
  {
   "cell_type": "code",
   "execution_count": 34,
   "metadata": {},
   "outputs": [
    {
     "ename": "NameError",
     "evalue": "name 'cleaned_df' is not defined",
     "output_type": "error",
     "traceback": [
      "\u001b[0;31m---------------------------------------------------------------------------\u001b[0m",
      "\u001b[0;31mNameError\u001b[0m                                 Traceback (most recent call last)",
      "Cell \u001b[0;32mIn[34], line 1\u001b[0m\n\u001b[0;32m----> 1\u001b[0m unique_column1 \u001b[39m=\u001b[39m cleaned_df[\u001b[39m'\u001b[39m\u001b[39mcolumn1\u001b[39m\u001b[39m'\u001b[39m]\u001b[39m.\u001b[39mnunique()\n\u001b[1;32m      2\u001b[0m \u001b[39mprint\u001b[39m(\u001b[39m\"\u001b[39m\u001b[39mNumber of unique values:\u001b[39m\u001b[39m\"\u001b[39m, column1)\n",
      "\u001b[0;31mNameError\u001b[0m: name 'cleaned_df' is not defined"
     ]
    }
   ],
   "source": [
    "unique_column1 = cleaned_df['column1'].nunique()\n",
    "print(\"Number of unique values:\", column1) #-----> Change \"values\" for the variable name you want to analize"
   ]
  },
  {
   "attachments": {},
   "cell_type": "markdown",
   "metadata": {},
   "source": [
    "### Distribution of values"
   ]
  },
  {
   "cell_type": "code",
   "execution_count": null,
   "metadata": {},
   "outputs": [],
   "source": [
    "value_counts = cleaned_df['column1'].value_counts().reset_index()\n",
    "value_counts.columns = ['column1', 'Count']\n",
    "\n",
    "# Display the distribution of values\n",
    "print(\"\\nDistribution of values:\") #-----> Change \"values\" for the variable name you want to analize\n",
    "print(cleaned_df.head(10))"
   ]
  },
  {
   "attachments": {},
   "cell_type": "markdown",
   "metadata": {},
   "source": [
    "### Barplot of the distribution of values"
   ]
  },
  {
   "cell_type": "code",
   "execution_count": null,
   "metadata": {},
   "outputs": [],
   "source": [
    "plt.figure(figsize=(8, 8))\n",
    "plt.pie(cleaned_df['Count'][:10], labels=cleaned_df['column1'][:10], autopct='%1.1f%%')\n",
    "plt.title('Distribution of Values (Top 10)')\n",
    "plt.show()"
   ]
  },
  {
   "attachments": {},
   "cell_type": "markdown",
   "metadata": {},
   "source": [
    "### Descriptive statistics of Column values"
   ]
  },
  {
   "cell_type": "code",
   "execution_count": null,
   "metadata": {},
   "outputs": [],
   "source": [
    "cleaned_df_column1 = cleaned_df['column1'].describe()\n",
    "\n",
    "print(\"Descriptive statistics of price:\")\n",
    "print(cleaned_df_column1)"
   ]
  },
  {
   "attachments": {},
   "cell_type": "markdown",
   "metadata": {},
   "source": [
    "### Distribution of values based on a column or several columns"
   ]
  },
  {
   "cell_type": "code",
   "execution_count": null,
   "metadata": {},
   "outputs": [],
   "source": [
    "cleaned_df[['column1', 'column2', 'column3', 'column4']].hist(figsize=(12, 6))\n",
    "plt.tight_layout()\n",
    "plt.show()"
   ]
  },
  {
   "attachments": {},
   "cell_type": "markdown",
   "metadata": {},
   "source": [
    "### Barplot of the distribution of values\n"
   ]
  },
  {
   "cell_type": "code",
   "execution_count": null,
   "metadata": {},
   "outputs": [],
   "source": [
    "cleaned_df_counts = df['column1'].value_counts()\n",
    "\n",
    "plt.figure(figsize=(12, 6))\n",
    "cleaned_df_counts.plot(kind='bar')\n",
    "plt.xlabel('State')\n",
    "plt.ylabel('Number of Cities')\n",
    "plt.title('Distribution of Cities across States')\n",
    "plt.xticks(rotation=45)\n",
    "plt.show()"
   ]
  },
  {
   "attachments": {},
   "cell_type": "markdown",
   "metadata": {},
   "source": [
    "## Analyses specific to geolocation data"
   ]
  },
  {
   "attachments": {},
   "cell_type": "markdown",
   "metadata": {},
   "source": [
    "### Geographic distribution of values (i.e. customers, start/end points) on a map"
   ]
  },
  {
   "attachments": {},
   "cell_type": "markdown",
   "metadata": {},
   "source": [
    "To address the long runtime and the large number of locations, consider using a random sample of the data. This will allow you to work with a smaller subset of the data, making it faster to merge and plot on a map"
   ]
  },
  {
   "cell_type": "code",
   "execution_count": null,
   "metadata": {},
   "outputs": [],
   "source": [
    "# Remember to import folium library\n",
    "# In case you haven`t do:\n",
    "# import folium\n",
    "\n",
    "# Randomly sample the geolocation DataFrame\n",
    "sampled_geolocation = geolocation.sample(n=250) \n",
    "\n",
    "# Randomly sample the cleaned_customers DataFrame\n",
    "sampled_cleaned_customers = cleaned_df.sample(n=250) \n",
    "\n",
    "# Merge the geolocation DataFrame with the cleaned_customers DataFrame using the common column 'customer_city'.\n",
    "merged_df = pd.merge(sampled_geolocation, sampled_cleaned_customers, left_on='geolocation_city', right_on='customer_city', how='inner')\n",
    "\n",
    "# Create a map object centered at a specific latitude and longitude you want, for example:\n",
    "map = folium.Map(location=[-12.257569734193066, -53.113064202406306], zoom_start=4)\n",
    "\n",
    "# Iterate over the aggregated data and add markers for each location\n",
    "for index, row in merged_df.iterrows():\n",
    "    lat = row['geolocation_lat']\n",
    "    lon = row['geolocation_lng']\n",
    "    city = row['geolocation_city']\n",
    "    marker = folium.Marker(location=[lat, lon], popup=city)\n",
    "    marker.add_to(map)\n",
    "\n",
    "# save the map\n",
    "map.save('map.html')\n",
    "\n",
    "# Display the map\n",
    "map"
   ]
  },
  {
   "attachments": {},
   "cell_type": "markdown",
   "metadata": {},
   "source": [
    "### Heatmap - Regions with the highest concentration of values."
   ]
  },
  {
   "attachments": {},
   "cell_type": "markdown",
   "metadata": {},
   "source": [
    "Same as before, consider using a random sample of the data in case the df are too big, to avoid running errors."
   ]
  },
  {
   "cell_type": "code",
   "execution_count": null,
   "metadata": {},
   "outputs": [],
   "source": [
    "# Group by 'customer_city' and count the occurrences\n",
    "heatmap_city_counts = sampled_cleaned_customers['customer_city'].value_counts().reset_index()\n",
    "heatmap_city_counts.columns = ['customer_city', 'count']\n",
    "\n",
    "# Convert 'customer_city' to lowercase for consistency\n",
    "heatmap_city_counts['customer_city'] = heatmap_city_counts['customer_city'].str.lower()\n",
    "\n",
    "# Merge with the 'sampled_geolocation' DataFrame\n",
    "heatmap_merged_df = pd.merge(sampled_geolocation, heatmap_city_counts, left_on='geolocation_city', right_on='customer_city', how='inner')\n",
    "\n",
    "# Create a map object centered at a specific latitude and longitude\n",
    "map_heatmap = folium.Map(location=[-12.257569734193066, -53.113064202406306], zoom_start=4)\n",
    "\n",
    "# Create a HeatMap layer using the aggregated latitude and longitude coordinates\n",
    "heatmap_data = heatmap_merged_df[['geolocation_lat', 'geolocation_lng', 'count']].values\n",
    "heatmap_layer = plugins.HeatMap(heatmap_data)\n",
    "\n",
    "# Add the HeatMap layer to the map\n",
    "heatmap_layer.add_to(map_heatmap)\n",
    "\n",
    "# Save the map as an HTML file\n",
    "map_heatmap.save('heatmap.html')\n",
    "\n",
    "# Display the map\n",
    "map_heatmap\n"
   ]
  }
 ],
 "metadata": {
  "kernelspec": {
   "display_name": "base",
   "language": "python",
   "name": "python3"
  },
  "language_info": {
   "codemirror_mode": {
    "name": "ipython",
    "version": 3
   },
   "file_extension": ".py",
   "mimetype": "text/x-python",
   "name": "python",
   "nbconvert_exporter": "python",
   "pygments_lexer": "ipython3",
   "version": "3.9.7"
  },
  "orig_nbformat": 4
 },
 "nbformat": 4,
 "nbformat_minor": 2
}
